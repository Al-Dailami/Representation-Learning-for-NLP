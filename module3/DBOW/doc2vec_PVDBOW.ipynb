{
 "cells": [
  {
   "cell_type": "code",
   "execution_count": 1,
   "metadata": {
    "collapsed": true,
    "deletable": true,
    "editable": true
   },
   "outputs": [],
   "source": [
    "%reload_ext autoreload\n",
    "%matplotlib inline"
   ]
  },
  {
   "cell_type": "code",
   "execution_count": 4,
   "metadata": {
    "collapsed": true
   },
   "outputs": [],
   "source": [
    "import sys \n",
    "sys.path.append(\"../Utils/\")"
   ]
  },
  {
   "cell_type": "code",
   "execution_count": 6,
   "metadata": {
    "collapsed": false,
    "deletable": true,
    "editable": true
   },
   "outputs": [],
   "source": [
    "import tensorflow as tf \n",
    "import numpy as np \n",
    "import pandas as pd \n",
    "import nltk\n",
    "import math\n",
    "import random\n",
    "from sklearn.utils import shuffle\n",
    "from load_imdb_data import load_imdb_data\n",
    "from sklearn.linear_model import LogisticRegression\n",
    "from sklearn.model_selection import train_test_split\n",
    "from sklearn.metrics import f1_score \n",
    "from sklearn.feature_extraction.text import TfidfVectorizer\n",
    "import numpy as np \n",
    "np.random.seed(0)"
   ]
  },
  {
   "cell_type": "code",
   "execution_count": 7,
   "metadata": {
    "collapsed": true,
    "deletable": true,
    "editable": true
   },
   "outputs": [],
   "source": [
    "imdb_data = load_imdb_data()"
   ]
  },
  {
   "cell_type": "code",
   "execution_count": 8,
   "metadata": {
    "collapsed": true,
    "deletable": true,
    "editable": true
   },
   "outputs": [],
   "source": [
    "imdb_data = shuffle(imdb_data)\n",
    "imdb_data.reset_index(drop=True, inplace=True)"
   ]
  },
  {
   "cell_type": "code",
   "execution_count": 9,
   "metadata": {
    "collapsed": false,
    "deletable": true,
    "editable": true
   },
   "outputs": [
    {
     "data": {
      "text/plain": [
       "50000"
      ]
     },
     "execution_count": 9,
     "metadata": {},
     "output_type": "execute_result"
    }
   ],
   "source": [
    "len(imdb_data)"
   ]
  },
  {
   "cell_type": "code",
   "execution_count": 10,
   "metadata": {
    "collapsed": false,
    "deletable": true,
    "editable": true
   },
   "outputs": [
    {
     "data": {
      "text/html": [
       "<div>\n",
       "<table border=\"1\" class=\"dataframe\">\n",
       "  <thead>\n",
       "    <tr style=\"text-align: right;\">\n",
       "      <th></th>\n",
       "      <th>review</th>\n",
       "      <th>sentiment</th>\n",
       "    </tr>\n",
       "  </thead>\n",
       "  <tbody>\n",
       "    <tr>\n",
       "      <th>0</th>\n",
       "      <td>often tagged as a comedy the man in the white ...</td>\n",
       "      <td>1</td>\n",
       "    </tr>\n",
       "    <tr>\n",
       "      <th>1</th>\n",
       "      <td>it s easy to make really general comments abou...</td>\n",
       "      <td>-1</td>\n",
       "    </tr>\n",
       "    <tr>\n",
       "      <th>2</th>\n",
       "      <td>i think the movie was one sided i watched it r...</td>\n",
       "      <td>-1</td>\n",
       "    </tr>\n",
       "    <tr>\n",
       "      <th>3</th>\n",
       "      <td>i have fond memories of watching this visually...</td>\n",
       "      <td>1</td>\n",
       "    </tr>\n",
       "    <tr>\n",
       "      <th>4</th>\n",
       "      <td>this episode had potential the basic premise o...</td>\n",
       "      <td>-1</td>\n",
       "    </tr>\n",
       "  </tbody>\n",
       "</table>\n",
       "</div>"
      ],
      "text/plain": [
       "                                              review  sentiment\n",
       "0  often tagged as a comedy the man in the white ...          1\n",
       "1  it s easy to make really general comments abou...         -1\n",
       "2  i think the movie was one sided i watched it r...         -1\n",
       "3  i have fond memories of watching this visually...          1\n",
       "4  this episode had potential the basic premise o...         -1"
      ]
     },
     "execution_count": 10,
     "metadata": {},
     "output_type": "execute_result"
    }
   ],
   "source": [
    "imdb_data.head()"
   ]
  },
  {
   "cell_type": "code",
   "execution_count": 11,
   "metadata": {
    "collapsed": true,
    "deletable": true,
    "editable": true
   },
   "outputs": [],
   "source": [
    "def processDocs(documents, vocab_size=1000):\n",
    "    \"\"\"\n",
    "    This functions takes in a collection of documents and generates a vocabulary based on the size given in input. \n",
    "    It returns a representation for each document in the list of input documents. \n",
    "    \"\"\"\n",
    "    vocab = {} \n",
    "    doc_id = 0 \n",
    "    doc_ids = []\n",
    "    \n",
    "    for doc in documents:\n",
    "        doc_ids.append(doc_id)                          # Give an ID to each document \n",
    "        doc_id += 1\n",
    "        \n",
    "        for word in nltk.word_tokenize(doc):            # Generate a vocabulary while iterating threw the documents \n",
    "            if word not in vocab:\n",
    "                vocab[word] = 1 \n",
    "            else:\n",
    "                vocab[word] += 1\n",
    "    \n",
    "    # Extract the most frequent words based on the vocabulary size \n",
    "    freq_words_list = sorted(vocab.items(), key=lambda x: x[1], reverse=True)[:vocab_size]\n",
    "    freq_words_set = set([item[0] for item in freq_words_list])\n",
    "    \n",
    "    # Give an index to each word in vocabulary \n",
    "    word2idx = {}         \n",
    "    index_word = 0\n",
    "    for word in freq_words_set:\n",
    "        word2idx[word] = index_word\n",
    "        index_word += 1\n",
    "    word2idx['UNK'] = index_word\n",
    "    \n",
    "    doc_repr = []                          # Represent each document with representation based on the vocabulary  \n",
    "    for doc in documents:\n",
    "        temp = []\n",
    "        for w in doc:\n",
    "            if w in word2idx:\n",
    "                temp.append(word2idx[w])\n",
    "            else:\n",
    "                temp.append(word2idx['UNK'])\n",
    "        doc_repr.append(temp)\n",
    "        \n",
    "    return documents, doc_ids, word2idx, doc_repr"
   ]
  },
  {
   "cell_type": "code",
   "execution_count": 12,
   "metadata": {
    "collapsed": true,
    "deletable": true,
    "editable": true
   },
   "outputs": [],
   "source": [
    "docs, doc_ids, word2ids, doc_repr = processDocs(imdb_data['review'])"
   ]
  },
  {
   "cell_type": "code",
   "execution_count": 13,
   "metadata": {
    "collapsed": false,
    "deletable": true,
    "editable": true
   },
   "outputs": [
    {
     "name": "stdout",
     "output_type": "stream",
     "text": [
      "(50000, 50000, 1001, 50000)\n"
     ]
    }
   ],
   "source": [
    "print(len(docs), len(doc_ids), len(word2ids), len(doc_repr))"
   ]
  },
  {
   "cell_type": "code",
   "execution_count": 27,
   "metadata": {
    "collapsed": true,
    "deletable": true,
    "editable": true
   },
   "outputs": [],
   "source": [
    "def performanceTest(X, y, method='tf-idf'):\n",
    "    X_train, X_test, y_train, y_test = train_test_split(X,\n",
    "                                                        y, \n",
    "                                                        test_size=0.2,  \n",
    "                                                        random_state=42)\n",
    "    \n",
    "    if method == \"tf-idf\":\n",
    "        vectorizer = TfidfVectorizer(min_df=1)\n",
    "        X_train = vectorizer.fit_transform(X_train)\n",
    "        X_test = vectorizer.transform(X_test)\n",
    "        clf = LogisticRegression()\n",
    "        clf.fit(X_train, y_train)\n",
    "        train_pred = clf.predict(X_train)\n",
    "        test_pred = clf.predict(X_test)\n",
    "        print(\"Train F1-score : \", f1_score(y_train, train_pred))\n",
    "        print(\"Test F1-score : \", f1_score(y_test, test_pred))\n",
    "    else:\n",
    "        clf = LogisticRegression()\n",
    "        clf.fit(X_train, y_train)\n",
    "        train_pred = clf.predict(X_train)\n",
    "        test_pred = clf.predict(X_test)\n",
    "        print(\"Train F1-score : \", f1_score(y_train, train_pred))\n",
    "        print(\"Test F1-score : \", f1_score(y_test, test_pred))"
   ]
  },
  {
   "cell_type": "code",
   "execution_count": 28,
   "metadata": {
    "collapsed": false,
    "deletable": true,
    "editable": true
   },
   "outputs": [
    {
     "name": "stdout",
     "output_type": "stream",
     "text": [
      "('Train F1-score : ', 0.75810542821565297)\n",
      "('Test F1-score : ', 0.65317266051591039)\n"
     ]
    }
   ],
   "source": [
    "performanceTest(imdb_data['review'], imdb_data['sentiment'])"
   ]
  },
  {
   "cell_type": "code",
   "execution_count": null,
   "metadata": {
    "collapsed": true,
    "deletable": true,
    "editable": true
   },
   "outputs": [],
   "source": []
  },
  {
   "cell_type": "code",
   "execution_count": null,
   "metadata": {
    "collapsed": true,
    "deletable": true,
    "editable": true
   },
   "outputs": [],
   "source": []
  },
  {
   "cell_type": "markdown",
   "metadata": {
    "deletable": true,
    "editable": true
   },
   "source": [
    "## Architecture - PV-DBOW Distributed Bag of Words version of Paragraph Vector"
   ]
  },
  {
   "cell_type": "code",
   "execution_count": 390,
   "metadata": {
    "collapsed": true,
    "deletable": true,
    "editable": true
   },
   "outputs": [],
   "source": [
    "doc_size = len(docs)\n",
    "embedding_size_d = 20\n",
    "vocab_size = len(word2ids)\n",
    "window_size = 4\n",
    "n_neg_samples = 10\n",
    "learning_rate = 0.001\n",
    "epochs = 201"
   ]
  },
  {
   "cell_type": "code",
   "execution_count": 391,
   "metadata": {
    "collapsed": true,
    "deletable": true,
    "editable": true
   },
   "outputs": [],
   "source": [
    "# Define placeholders for training \n",
    "train_dX = tf.placeholder(tf.int32, shape=[1])\n",
    "train_label = tf.placeholder(tf.int32, shape=[None, window_size])"
   ]
  },
  {
   "cell_type": "code",
   "execution_count": 392,
   "metadata": {
    "collapsed": true,
    "deletable": true,
    "editable": true
   },
   "outputs": [],
   "source": [
    "# Define matrix for doc_embedding and word_embedding \n",
    "doc_embedding = tf.Variable(tf.random_uniform([doc_size, embedding_size_d], -1.0, 1.0), name=\"doc_embedding\")\n",
    "word_embedding = tf.Variable(tf.random_uniform([embedding_size_d, vocab_size], -1.0, 1.0), name=\"word_embedding\")"
   ]
  },
  {
   "cell_type": "code",
   "execution_count": 397,
   "metadata": {
    "collapsed": true,
    "deletable": true,
    "editable": true
   },
   "outputs": [],
   "source": [
    "# Define weights for the output unit \n",
    "weights = tf.Variable(tf.truncated_normal([vocab_size, embedding_size_d], \n",
    "                                       stddev=1.0 / math.sqrt(vocab_size)))\n",
    "biases = tf.Variable(tf.zeros(vocab_size))"
   ]
  },
  {
   "cell_type": "code",
   "execution_count": 398,
   "metadata": {
    "collapsed": false,
    "deletable": true,
    "editable": true
   },
   "outputs": [
    {
     "name": "stdout",
     "output_type": "stream",
     "text": [
      "(501, 20)\n"
     ]
    }
   ],
   "source": [
    "print weights.get_shape()"
   ]
  },
  {
   "cell_type": "code",
   "execution_count": 399,
   "metadata": {
    "collapsed": true,
    "deletable": true,
    "editable": true
   },
   "outputs": [],
   "source": [
    "# Add the doc2vec from the doc_embedding \n",
    "embed = tf.nn.embedding_lookup(doc_embedding, train_dX)"
   ]
  },
  {
   "cell_type": "code",
   "execution_count": 400,
   "metadata": {
    "collapsed": true,
    "deletable": true,
    "editable": true
   },
   "outputs": [],
   "source": [
    "loss = tf.nn.sampled_softmax_loss(weights=weights, \\\n",
    "                                  biases=biases, \\\n",
    "                                  labels=train_label, \\\n",
    "                                  inputs=embed, \\\n",
    "                                  num_sampled=n_neg_samples, \\\n",
    "                                  num_classes=vocab_size, \\\n",
    "                                  num_true=window_size)"
   ]
  },
  {
   "cell_type": "code",
   "execution_count": 401,
   "metadata": {
    "collapsed": true,
    "deletable": true,
    "editable": true
   },
   "outputs": [],
   "source": [
    "loss = tf.reduce_mean(loss)"
   ]
  },
  {
   "cell_type": "code",
   "execution_count": 402,
   "metadata": {
    "collapsed": true,
    "deletable": true,
    "editable": true
   },
   "outputs": [],
   "source": [
    "optimizer = tf.train.AdagradOptimizer(learning_rate).minimize(loss)"
   ]
  },
  {
   "cell_type": "code",
   "execution_count": 406,
   "metadata": {
    "collapsed": false,
    "deletable": true,
    "editable": true
   },
   "outputs": [
    {
     "name": "stdout",
     "output_type": "stream",
     "text": [
      "Error at epoch :  0  =  5411.48152983\n",
      "Error at epoch :  10  =  5289.10377419\n",
      "Error at epoch :  20  =  5224.79287863\n",
      "Error at epoch :  30  =  5015.29414165\n",
      "Error at epoch :  40  =  5136.94008923\n",
      "Error at epoch :  50  =  5098.15606439\n",
      "Error at epoch :  60  =  4996.61689186\n",
      "Error at epoch :  70  =  5001.05284905\n",
      "Error at epoch :  80  =  4906.31645226\n",
      "Error at epoch :  90  =  4929.5450964\n",
      "Error at epoch :  100  =  5039.89336562\n",
      "Error at epoch :  110  =  4948.42556465\n",
      "Error at epoch :  120  =  4944.35927701\n",
      "Error at epoch :  130  =  4878.96978402\n",
      "Error at epoch :  140  =  4964.93613696\n",
      "Error at epoch :  150  =  4927.08172655\n",
      "Error at epoch :  160  =  5061.91432416\n",
      "Error at epoch :  170  =  4858.45620561\n",
      "Error at epoch :  180  =  4813.0437789\n",
      "Error at epoch :  190  =  4652.80651069\n",
      "Error at epoch :  200  =  4870.85287452\n",
      "Model saved in file: ./models/model_pvdbow.ckpt\n"
     ]
    }
   ],
   "source": [
    "saver = tf.train.Saver()\n",
    "\n",
    "with tf.Session() as sess:\n",
    "    init = tf.global_variables_initializer()\n",
    "    sess.run(init)\n",
    "    average_loss = 0\n",
    "    \n",
    "    for step in range(epochs):\n",
    "        epoch_error = 0.0\n",
    "        for id_, repr_ in zip(doc_ids, doc_repr):\n",
    "            if len(repr_) < window_size + 1:\n",
    "                continue\n",
    "            count = random.randint(1, 5)\n",
    "            for cn in range(count):\n",
    "                sample_window = random.sample(repr_, window_size)\n",
    "\n",
    "                feed_dict = {train_dX : [id_], \\\n",
    "                             train_label : np.array([sample_window]).reshape(1, -1)}\n",
    "                                \n",
    "                #print feed_dict\n",
    "                op, l = sess.run([optimizer, loss], \n",
    "                                    feed_dict=feed_dict)\n",
    "                \n",
    "                epoch_error += l\n",
    "                \n",
    "        if step % 10 == 0:\n",
    "            print \"Error at epoch : \", step, \" = \", epoch_error\n",
    "            \n",
    "    save_path = saver.save(sess, \"./models/model_pvdbow.ckpt\")\n",
    "    print(\"Model saved in file: %s\" % save_path)"
   ]
  },
  {
   "cell_type": "code",
   "execution_count": 408,
   "metadata": {
    "collapsed": false,
    "deletable": true,
    "editable": true
   },
   "outputs": [
    {
     "name": "stdout",
     "output_type": "stream",
     "text": [
      "Model restored.\n",
      "('Train F1-score : ', 0.59320046893317702)\n",
      "('Test F1-score : ', 0.58333333333333337)\n"
     ]
    }
   ],
   "source": [
    "doc_pvdbow = None\n",
    "\n",
    "with tf.Session() as sess:\n",
    "    # Restore variables from disk.\n",
    "    saver.restore(sess, \"./models/model_pvdbow.ckpt\")\n",
    "    print(\"Model restored.\")\n",
    "    \n",
    "    # Normalize word2vec \n",
    "    norm_w = tf.sqrt(tf.reduce_sum(tf.square(word_embedding), 1, keep_dims=True))\n",
    "    normalized_word_embeddings = word_embedding / norm_w\n",
    "    word2vec = normalized_word_embeddings.eval()\n",
    "    \n",
    "    # Normalize doc2vec \n",
    "    norm_d = tf.sqrt(tf.reduce_sum(tf.square(doc_embedding), 1, keep_dims=True))\n",
    "    normalized_doc_embeddings = doc_embedding / norm_d\n",
    "    \n",
    "    # Find performance \n",
    "    performanceTest(normalized_doc_embeddings.eval(), imdb_data['sentiment'][:1000], method=None)\n",
    "    \n",
    "    doc_pvdbow = normalized_doc_embeddings.eval()"
   ]
  },
  {
   "cell_type": "code",
   "execution_count": null,
   "metadata": {
    "collapsed": true,
    "deletable": true,
    "editable": true
   },
   "outputs": [],
   "source": []
  },
  {
   "cell_type": "code",
   "execution_count": null,
   "metadata": {
    "collapsed": true,
    "deletable": true,
    "editable": true
   },
   "outputs": [],
   "source": []
  },
  {
   "cell_type": "markdown",
   "metadata": {
    "deletable": true,
    "editable": true
   },
   "source": [
    "### Adding batchsizes for speedup"
   ]
  },
  {
   "cell_type": "code",
   "execution_count": 14,
   "metadata": {
    "collapsed": true,
    "deletable": true,
    "editable": true
   },
   "outputs": [],
   "source": [
    "bucket_list = []\n",
    "\n",
    "def generate_batch_pvdbow(doc_ids, doc_repr, sample_size=5, batch_size=100, window_size=3):\n",
    "    global bucket_list\n",
    "\n",
    "    docs_ids_to_select = list(set(doc_ids) - set(bucket_list))\n",
    "    \n",
    "    \n",
    "    if len(docs_ids_to_select) < batch_size//sample_size:\n",
    "        bucket_list = []\n",
    "        docs_ids_to_select = doc_ids\n",
    "        \n",
    "    index = 0 \n",
    "    train_dX = np.ndarray(shape=(batch_size, 1), dtype=np.int32)\n",
    "    train_label = np.ndarray(shape=(batch_size, window_size), dtype=np.int32)\n",
    "    random_docs = random.sample(docs_ids_to_select, batch_size//sample_size)    # Choose set of random documents \n",
    "\n",
    "    bucket_list += random_docs\n",
    "    \n",
    "    for id_ in random_docs:\n",
    "        for j in range(sample_size):                                 # Generating a dataset of sample size \n",
    "            sample_window = random.sample(doc_repr[id_], window_size)\n",
    "            train_dX[index] = id_\n",
    "            train_label[index] = sample_window\n",
    "            index += 1\n",
    "    return train_dX, train_label "
   ]
  },
  {
   "cell_type": "code",
   "execution_count": 15,
   "metadata": {
    "collapsed": true,
    "deletable": true,
    "editable": true
   },
   "outputs": [],
   "source": [
    "doc_size = len(docs)\n",
    "embedding_size_d = 50\n",
    "vocab_size = len(word2ids)\n",
    "window_size = 3\n",
    "n_neg_samples = 10\n",
    "learning_rate = 0.001\n",
    "epochs = 10001\n",
    "batch_size=100"
   ]
  },
  {
   "cell_type": "code",
   "execution_count": 16,
   "metadata": {
    "collapsed": true,
    "deletable": true,
    "editable": true
   },
   "outputs": [],
   "source": [
    "# Define placeholders for training \n",
    "train_dX = tf.placeholder(tf.int32, shape=[batch_size, 1])\n",
    "train_label = tf.placeholder(tf.int32, shape=[batch_size, window_size])"
   ]
  },
  {
   "cell_type": "code",
   "execution_count": 17,
   "metadata": {
    "collapsed": true,
    "deletable": true,
    "editable": true
   },
   "outputs": [],
   "source": [
    "# Define matrix for doc_embedding and word_embedding \n",
    "doc_embedding = tf.Variable(tf.random_uniform([doc_size, embedding_size_d], -1.0, 1.0), name=\"doc_embedding\")\n",
    "word_embedding = tf.Variable(tf.random_uniform([embedding_size_d, vocab_size], -1.0, 1.0), name=\"word_embedding\")"
   ]
  },
  {
   "cell_type": "code",
   "execution_count": 18,
   "metadata": {
    "collapsed": true,
    "deletable": true,
    "editable": true
   },
   "outputs": [],
   "source": [
    "# Define weights for the output unit \n",
    "weights = tf.Variable(tf.truncated_normal([vocab_size, embedding_size_d], \n",
    "                                       stddev=1.0 / math.sqrt(vocab_size)))\n",
    "biases = tf.Variable(tf.zeros(vocab_size))"
   ]
  },
  {
   "cell_type": "code",
   "execution_count": 19,
   "metadata": {
    "collapsed": false,
    "deletable": true,
    "editable": true
   },
   "outputs": [
    {
     "name": "stdout",
     "output_type": "stream",
     "text": [
      "(1001, 50)\n"
     ]
    }
   ],
   "source": [
    "print weights.get_shape()"
   ]
  },
  {
   "cell_type": "code",
   "execution_count": 20,
   "metadata": {
    "collapsed": true,
    "deletable": true,
    "editable": true
   },
   "outputs": [],
   "source": [
    "# Add the doc2vec from the doc_embedding \n",
    "embed = tf.nn.embedding_lookup(doc_embedding, train_dX[:, 0])"
   ]
  },
  {
   "cell_type": "code",
   "execution_count": 21,
   "metadata": {
    "collapsed": true,
    "deletable": true,
    "editable": true
   },
   "outputs": [],
   "source": [
    "loss = tf.nn.sampled_softmax_loss(weights=weights, \\\n",
    "                                  biases=biases, \\\n",
    "                                  labels=train_label, \\\n",
    "                                  inputs=embed, \\\n",
    "                                  num_sampled=n_neg_samples, \\\n",
    "                                  num_classes=vocab_size, \\\n",
    "                                  num_true=window_size)"
   ]
  },
  {
   "cell_type": "code",
   "execution_count": 22,
   "metadata": {
    "collapsed": true,
    "deletable": true,
    "editable": true
   },
   "outputs": [],
   "source": [
    "loss = tf.reduce_mean(loss)"
   ]
  },
  {
   "cell_type": "code",
   "execution_count": 23,
   "metadata": {
    "collapsed": true,
    "deletable": true,
    "editable": true
   },
   "outputs": [],
   "source": [
    "optimizer = tf.train.AdagradOptimizer(learning_rate).minimize(loss)"
   ]
  },
  {
   "cell_type": "code",
   "execution_count": 25,
   "metadata": {
    "collapsed": false,
    "deletable": true,
    "editable": true,
    "scrolled": false
   },
   "outputs": [
    {
     "name": "stdout",
     "output_type": "stream",
     "text": [
      "Error at epoch :  0  =  1.2712199688\n",
      "Error at epoch :  100  =  1.9072239399\n",
      "Error at epoch :  200  =  1.66182100773\n",
      "Error at epoch :  300  =  1.56451749802\n",
      "Error at epoch :  400  =  1.6622427702\n",
      "Error at epoch :  500  =  1.84112548828\n",
      "Error at epoch :  600  =  1.66757190228\n",
      "Error at epoch :  700  =  1.43212127686\n",
      "Error at epoch :  800  =  1.76986169815\n",
      "Error at epoch :  900  =  1.53099024296\n",
      "Error at epoch :  1000  =  1.31069195271\n",
      "Error at epoch :  1100  =  1.74574828148\n",
      "Error at epoch :  1200  =  1.53338778019\n",
      "Error at epoch :  1300  =  1.65493130684\n",
      "Error at epoch :  1400  =  1.67177212238\n",
      "Error at epoch :  1500  =  1.72042775154\n",
      "Error at epoch :  1600  =  1.70859539509\n",
      "Error at epoch :  1700  =  1.35504710674\n",
      "Error at epoch :  1800  =  1.73298084736\n",
      "Error at epoch :  1900  =  1.69476103783\n",
      "Error at epoch :  2000  =  1.61641597748\n",
      "Error at epoch :  2100  =  1.48029506207\n",
      "Error at epoch :  2200  =  1.30745637417\n",
      "Error at epoch :  2300  =  1.55004942417\n",
      "Error at epoch :  2400  =  1.56686735153\n",
      "Error at epoch :  2500  =  1.7108746767\n",
      "Error at epoch :  2600  =  1.33881497383\n",
      "Error at epoch :  2700  =  1.49776995182\n",
      "Error at epoch :  2800  =  1.48519718647\n",
      "Error at epoch :  2900  =  1.49157595634\n",
      "Error at epoch :  3000  =  1.52741312981\n",
      "Error at epoch :  3100  =  1.44200801849\n",
      "Error at epoch :  3200  =  1.82667934895\n",
      "Error at epoch :  3300  =  1.37284123898\n",
      "Error at epoch :  3400  =  1.55906009674\n",
      "Error at epoch :  3500  =  1.28417062759\n",
      "Error at epoch :  3600  =  1.51760315895\n",
      "Error at epoch :  3700  =  1.61006975174\n",
      "Error at epoch :  3800  =  1.45452010632\n",
      "Error at epoch :  3900  =  1.34420025349\n",
      "Error at epoch :  4000  =  1.51637852192\n",
      "Error at epoch :  4100  =  1.24475431442\n",
      "Error at epoch :  4200  =  1.46872258186\n",
      "Error at epoch :  4300  =  1.48865544796\n",
      "Error at epoch :  4400  =  1.58033633232\n",
      "Error at epoch :  4500  =  1.55189621449\n",
      "Error at epoch :  4600  =  1.46792423725\n",
      "Error at epoch :  4700  =  1.32007265091\n",
      "Error at epoch :  4800  =  1.33752787113\n",
      "Error at epoch :  4900  =  1.7065975666\n",
      "Error at epoch :  5000  =  1.59589755535\n",
      "Error at epoch :  5100  =  1.61706614494\n",
      "Error at epoch :  5200  =  1.68078219891\n",
      "Error at epoch :  5300  =  1.57130670547\n",
      "Error at epoch :  5400  =  1.68917918205\n",
      "Error at epoch :  5500  =  1.52491879463\n",
      "Error at epoch :  5600  =  1.54954218864\n",
      "Error at epoch :  5700  =  1.55093669891\n",
      "Error at epoch :  5800  =  1.5745806694\n",
      "Error at epoch :  5900  =  1.48242247105\n",
      "Error at epoch :  6000  =  1.25685954094\n",
      "Error at epoch :  6100  =  1.59020447731\n",
      "Error at epoch :  6200  =  1.62399721146\n",
      "Error at epoch :  6300  =  1.46376562119\n",
      "Error at epoch :  6400  =  1.32098972797\n",
      "Error at epoch :  6500  =  1.56298649311\n",
      "Error at epoch :  6600  =  1.67189693451\n",
      "Error at epoch :  6700  =  1.3148380518\n",
      "Error at epoch :  6800  =  1.33996129036\n",
      "Error at epoch :  6900  =  1.39584851265\n",
      "Error at epoch :  7000  =  1.48015797138\n",
      "Error at epoch :  7100  =  1.52710521221\n",
      "Error at epoch :  7200  =  1.49905288219\n",
      "Error at epoch :  7300  =  1.32319307327\n",
      "Error at epoch :  7400  =  1.34602296352\n",
      "Error at epoch :  7500  =  1.34401524067\n",
      "Error at epoch :  7600  =  1.3137191534\n",
      "Error at epoch :  7700  =  1.32525622845\n",
      "Error at epoch :  7800  =  1.51509857178\n",
      "Error at epoch :  7900  =  1.42970979214\n",
      "Error at epoch :  8000  =  1.51482248306\n",
      "Error at epoch :  8100  =  1.42851257324\n",
      "Error at epoch :  8200  =  1.64428007603\n",
      "Error at epoch :  8300  =  1.60522150993\n",
      "Error at epoch :  8400  =  1.7015376091\n",
      "Error at epoch :  8500  =  1.38660609722\n",
      "Error at epoch :  8600  =  1.35944032669\n",
      "Error at epoch :  8700  =  1.55171465874\n",
      "Error at epoch :  8800  =  1.47910618782\n",
      "Error at epoch :  8900  =  1.43513906002\n",
      "Error at epoch :  9000  =  1.53037595749\n",
      "Error at epoch :  9100  =  1.50669980049\n",
      "Error at epoch :  9200  =  1.64855241776\n",
      "Error at epoch :  9300  =  1.46897161007\n",
      "Error at epoch :  9400  =  1.54119944572\n",
      "Error at epoch :  9500  =  1.39633882046\n",
      "Error at epoch :  9600  =  1.34483397007\n",
      "Error at epoch :  9700  =  1.39962601662\n",
      "Error at epoch :  9800  =  1.37893366814\n",
      "Error at epoch :  9900  =  1.32599782944\n",
      "Error at epoch :  10000  =  1.30466401577\n",
      "Model saved in file: ../models/model_pvdbow_batch_training.ckpt\n"
     ]
    }
   ],
   "source": [
    "saver = tf.train.Saver()\n",
    "\n",
    "with tf.Session() as sess:\n",
    "    init = tf.global_variables_initializer()\n",
    "    sess.run(init)\n",
    "    average_loss = 0\n",
    "    \n",
    "    for step in range(epochs):\n",
    "        epoch_error = 0.0\n",
    "        temp_dX, temp_labels = generate_batch_pvdbow(doc_ids=doc_ids, doc_repr=doc_repr)\n",
    "        feed_dict = {train_dX : temp_dX,train_label : temp_labels}\n",
    "        op, l = sess.run([optimizer, loss], \n",
    "                                    feed_dict=feed_dict)\n",
    "        \n",
    "        epoch_error += l\n",
    "                \n",
    "        if step % 100 == 0:\n",
    "            print \"Error at epoch : \", step, \" = \", epoch_error\n",
    "            \n",
    "    save_path = saver.save(sess, \"../models/model_pvdbow_batch_training.ckpt\")\n",
    "    print(\"Model saved in file: %s\" % save_path)"
   ]
  },
  {
   "cell_type": "code",
   "execution_count": null,
   "metadata": {
    "collapsed": true,
    "deletable": true,
    "editable": true
   },
   "outputs": [],
   "source": []
  },
  {
   "cell_type": "markdown",
   "metadata": {
    "deletable": true,
    "editable": true
   },
   "source": [
    "### Evaluation of the representation "
   ]
  },
  {
   "cell_type": "code",
   "execution_count": 29,
   "metadata": {
    "collapsed": false,
    "deletable": true,
    "editable": true
   },
   "outputs": [
    {
     "name": "stdout",
     "output_type": "stream",
     "text": [
      "Model restored.\n",
      "('Train F1-score : ', 0.52465608984576151)\n",
      "('Test F1-score : ', 0.50605255388249193)\n"
     ]
    }
   ],
   "source": [
    "doc_pvdbow = None\n",
    "\n",
    "with tf.Session() as sess:\n",
    "    saver = tf.train.Saver()\n",
    "    # Restore variables from disk.\n",
    "    saver.restore(sess, \"../models/model_pvdbow_batch_training.ckpt\")\n",
    "    print(\"Model restored.\")\n",
    "    \n",
    "    # Normalize word2vec \n",
    "    norm_w = tf.sqrt(tf.reduce_sum(tf.square(word_embedding), 1, keep_dims=True))\n",
    "    normalized_word_embeddings = word_embedding / norm_w\n",
    "    word2vec = normalized_word_embeddings.eval()\n",
    "    \n",
    "    # Normalize doc2vec \n",
    "    norm_d = tf.sqrt(tf.reduce_sum(tf.square(doc_embedding), 1, keep_dims=True))\n",
    "    normalized_doc_embeddings = doc_embedding / norm_d\n",
    "    \n",
    "    # Find performance \n",
    "    performanceTest(normalized_doc_embeddings.eval(), imdb_data['sentiment'], method=None)\n",
    "    \n",
    "    doc_pvdbow = normalized_doc_embeddings.eval()"
   ]
  },
  {
   "cell_type": "code",
   "execution_count": null,
   "metadata": {
    "collapsed": true,
    "deletable": true,
    "editable": true
   },
   "outputs": [],
   "source": []
  }
 ],
 "metadata": {
  "kernelspec": {
   "display_name": "deep_learning_kernel",
   "language": "python",
   "name": "deep_learning_kernel"
  },
  "language_info": {
   "codemirror_mode": {
    "name": "ipython",
    "version": 2
   },
   "file_extension": ".py",
   "mimetype": "text/x-python",
   "name": "python",
   "nbconvert_exporter": "python",
   "pygments_lexer": "ipython2",
   "version": "2.7.12"
  }
 },
 "nbformat": 4,
 "nbformat_minor": 2
}
