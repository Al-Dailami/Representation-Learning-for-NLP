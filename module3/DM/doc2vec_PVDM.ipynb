{
 "cells": [
  {
   "cell_type": "code",
   "execution_count": 2,
   "metadata": {
    "collapsed": true,
    "deletable": true,
    "editable": true
   },
   "outputs": [],
   "source": [
    "%reload_ext autoreload\n",
    "%matplotlib inline"
   ]
  },
  {
   "cell_type": "code",
   "execution_count": 3,
   "metadata": {
    "collapsed": true
   },
   "outputs": [],
   "source": [
    "import sys\n",
    "sys.path.append(\"../Utils/\")"
   ]
  },
  {
   "cell_type": "code",
   "execution_count": 4,
   "metadata": {
    "collapsed": true,
    "deletable": true,
    "editable": true
   },
   "outputs": [],
   "source": [
    "import tensorflow as tf \n",
    "import numpy as np \n",
    "import pandas as pd \n",
    "import nltk\n",
    "import math\n",
    "import random\n",
    "from sklearn.utils import shuffle\n",
    "from load_imdb_data import load_imdb_data\n",
    "from sklearn.linear_model import LogisticRegression\n",
    "from sklearn.model_selection import train_test_split\n",
    "from sklearn.metrics import f1_score \n",
    "from sklearn.feature_extraction.text import TfidfVectorizer\n",
    "import numpy as np \n",
    "np.random.seed(0)"
   ]
  },
  {
   "cell_type": "code",
   "execution_count": 5,
   "metadata": {
    "collapsed": true,
    "deletable": true,
    "editable": true
   },
   "outputs": [],
   "source": [
    "imdb_data = load_imdb_data()"
   ]
  },
  {
   "cell_type": "code",
   "execution_count": 6,
   "metadata": {
    "collapsed": true,
    "deletable": true,
    "editable": true
   },
   "outputs": [],
   "source": [
    "imdb_data = shuffle(imdb_data)\n",
    "imdb_data.reset_index(drop=True, inplace=True)"
   ]
  },
  {
   "cell_type": "code",
   "execution_count": 7,
   "metadata": {
    "collapsed": false,
    "deletable": true,
    "editable": true
   },
   "outputs": [
    {
     "data": {
      "text/plain": [
       "50000"
      ]
     },
     "execution_count": 7,
     "metadata": {},
     "output_type": "execute_result"
    }
   ],
   "source": [
    "len(imdb_data)"
   ]
  },
  {
   "cell_type": "code",
   "execution_count": 8,
   "metadata": {
    "collapsed": false,
    "deletable": true,
    "editable": true
   },
   "outputs": [
    {
     "data": {
      "text/html": [
       "<div>\n",
       "<table border=\"1\" class=\"dataframe\">\n",
       "  <thead>\n",
       "    <tr style=\"text-align: right;\">\n",
       "      <th></th>\n",
       "      <th>review</th>\n",
       "      <th>sentiment</th>\n",
       "    </tr>\n",
       "  </thead>\n",
       "  <tbody>\n",
       "    <tr>\n",
       "      <th>0</th>\n",
       "      <td>often tagged as a comedy the man in the white ...</td>\n",
       "      <td>1</td>\n",
       "    </tr>\n",
       "    <tr>\n",
       "      <th>1</th>\n",
       "      <td>it s easy to make really general comments abou...</td>\n",
       "      <td>-1</td>\n",
       "    </tr>\n",
       "    <tr>\n",
       "      <th>2</th>\n",
       "      <td>i think the movie was one sided i watched it r...</td>\n",
       "      <td>-1</td>\n",
       "    </tr>\n",
       "    <tr>\n",
       "      <th>3</th>\n",
       "      <td>i have fond memories of watching this visually...</td>\n",
       "      <td>1</td>\n",
       "    </tr>\n",
       "    <tr>\n",
       "      <th>4</th>\n",
       "      <td>this episode had potential the basic premise o...</td>\n",
       "      <td>-1</td>\n",
       "    </tr>\n",
       "  </tbody>\n",
       "</table>\n",
       "</div>"
      ],
      "text/plain": [
       "                                              review  sentiment\n",
       "0  often tagged as a comedy the man in the white ...          1\n",
       "1  it s easy to make really general comments abou...         -1\n",
       "2  i think the movie was one sided i watched it r...         -1\n",
       "3  i have fond memories of watching this visually...          1\n",
       "4  this episode had potential the basic premise o...         -1"
      ]
     },
     "execution_count": 8,
     "metadata": {},
     "output_type": "execute_result"
    }
   ],
   "source": [
    "imdb_data.head()"
   ]
  },
  {
   "cell_type": "code",
   "execution_count": 9,
   "metadata": {
    "collapsed": true,
    "deletable": true,
    "editable": true
   },
   "outputs": [],
   "source": [
    "def processDocs(documents, vocab_size=1000):\n",
    "    \"\"\"\n",
    "    This functions takes in a collection of documents and generates a vocabulary based on the size given in input. \n",
    "    It returns a representation for each document in the list of input documents. \n",
    "    \"\"\"\n",
    "    vocab = {} \n",
    "    doc_id = 0 \n",
    "    doc_ids = []\n",
    "    \n",
    "    for doc in documents:\n",
    "        doc_ids.append(doc_id)                          # Give an ID to each document \n",
    "        doc_id += 1\n",
    "        \n",
    "        for word in nltk.word_tokenize(doc):            # Generate a vocabulary while iterating threw the documents \n",
    "            if word not in vocab:\n",
    "                vocab[word] = 1 \n",
    "            else:\n",
    "                vocab[word] += 1\n",
    "    \n",
    "    # Extract the most frequent words based on the vocabulary size \n",
    "    freq_words_list = sorted(vocab.items(), key=lambda x: x[1], reverse=True)[:vocab_size]\n",
    "    freq_words_set = set([item[0] for item in freq_words_list])\n",
    "    \n",
    "    # Give an index to each word in vocabulary \n",
    "    word2idx = {}         \n",
    "    index_word = 0\n",
    "    for word in freq_words_set:\n",
    "        word2idx[word] = index_word\n",
    "        index_word += 1\n",
    "    word2idx['UNK'] = index_word\n",
    "    \n",
    "    doc_repr = []                          # Represent each document with representation based on the vocabulary  \n",
    "    for doc in documents:\n",
    "        temp = []\n",
    "        for w in doc:\n",
    "            if w in word2idx:\n",
    "                temp.append(word2idx[w])\n",
    "            else:\n",
    "                temp.append(word2idx['UNK'])\n",
    "        doc_repr.append(temp)\n",
    "        \n",
    "    return documents, doc_ids, word2idx, doc_repr"
   ]
  },
  {
   "cell_type": "code",
   "execution_count": 10,
   "metadata": {
    "collapsed": true,
    "deletable": true,
    "editable": true
   },
   "outputs": [],
   "source": [
    "docs, doc_ids, word2ids, doc_repr = processDocs(imdb_data['review'])"
   ]
  },
  {
   "cell_type": "code",
   "execution_count": 11,
   "metadata": {
    "collapsed": false,
    "deletable": true,
    "editable": true
   },
   "outputs": [
    {
     "name": "stdout",
     "output_type": "stream",
     "text": [
      "(50000, 50000, 1001, 50000)\n"
     ]
    }
   ],
   "source": [
    "print(len(docs), len(doc_ids), len(word2ids), len(doc_repr))"
   ]
  },
  {
   "cell_type": "code",
   "execution_count": 12,
   "metadata": {
    "collapsed": true,
    "deletable": true,
    "editable": true
   },
   "outputs": [],
   "source": [
    "def performanceTest(X, y, method='tf-idf'):\n",
    "    X_train, X_test, y_train, y_test = train_test_split(X,\n",
    "                                                        y, \n",
    "                                                        test_size=0.2,  \n",
    "                                                        random_state=42)\n",
    "    \n",
    "    if method == \"tf-idf\":\n",
    "        vectorizer = TfidfVectorizer(min_df=1)\n",
    "        X_train = vectorizer.fit_transform(X_train)\n",
    "        X_test = vectorizer.transform(X_test)\n",
    "        clf = LogisticRegression()\n",
    "        clf.fit(X_train, y_train)\n",
    "        train_pred = clf.predict(X_train)\n",
    "        test_pred = clf.predict(X_test)\n",
    "        print(\"Train F1-score : \", f1_score(y_train, train_pred))\n",
    "        print(\"Test F1-score : \", f1_score(y_test, test_pred))\n",
    "    else:\n",
    "        clf = LogisticRegression()\n",
    "        clf.fit(X_train, y_train)\n",
    "        train_pred = clf.predict(X_train)\n",
    "        test_pred = clf.predict(X_test)\n",
    "        print(\"Train F1-score : \", f1_score(y_train, train_pred))\n",
    "        print(\"Test F1-score : \", f1_score(y_test, test_pred))"
   ]
  },
  {
   "cell_type": "code",
   "execution_count": 13,
   "metadata": {
    "collapsed": false,
    "deletable": true,
    "editable": true
   },
   "outputs": [
    {
     "name": "stdout",
     "output_type": "stream",
     "text": [
      "('Train F1-score : ', 0.75810542821565297)\n",
      "('Test F1-score : ', 0.65317266051591039)\n"
     ]
    }
   ],
   "source": [
    "performanceTest(imdb_data['review'], imdb_data['sentiment'])"
   ]
  },
  {
   "cell_type": "code",
   "execution_count": null,
   "metadata": {
    "collapsed": true,
    "deletable": true,
    "editable": true
   },
   "outputs": [],
   "source": []
  },
  {
   "cell_type": "markdown",
   "metadata": {
    "deletable": true,
    "editable": true
   },
   "source": [
    "## Architecture - PV-DM Distributed Memory version of Paragraph Vector"
   ]
  },
  {
   "cell_type": "markdown",
   "metadata": {
    "deletable": true,
    "editable": true
   },
   "source": [
    "### Basic implementation"
   ]
  },
  {
   "cell_type": "markdown",
   "metadata": {
    "deletable": true,
    "editable": true
   },
   "source": [
    "##### Initialize tensorflow matrix and matrices for word2vecs"
   ]
  },
  {
   "cell_type": "code",
   "execution_count": 610,
   "metadata": {
    "collapsed": true,
    "deletable": true,
    "editable": true
   },
   "outputs": [],
   "source": [
    "doc_size = len(docs)\n",
    "embedding_size_w = 100\n",
    "embedding_size_d = 200\n",
    "vocab_size = len(word2ids)\n",
    "window_size = 3\n",
    "n_neg_samples = 10\n",
    "learning_rate = 0.001\n",
    "epochs = 201\n",
    "combined_embed_vector_length = embedding_size_d + embedding_size_w"
   ]
  },
  {
   "cell_type": "code",
   "execution_count": 611,
   "metadata": {
    "collapsed": true,
    "deletable": true,
    "editable": true
   },
   "outputs": [],
   "source": [
    "# Define placeholders for training \n",
    "train_wX = tf.placeholder(tf.int32, shape=[window_size])\n",
    "train_dX = tf.placeholder(tf.int32, shape=[1])\n",
    "train_label = tf.placeholder(tf.int32, shape=[None, 1])"
   ]
  },
  {
   "cell_type": "code",
   "execution_count": 612,
   "metadata": {
    "collapsed": true,
    "deletable": true,
    "editable": true
   },
   "outputs": [],
   "source": [
    "# Define matrix for doc_embedding and word_embedding \n",
    "doc_embedding = tf.Variable(tf.random_uniform([doc_size, embedding_size_d], -1.0, 1.0), name=\"doc_embedding\")\n",
    "word_embedding = tf.Variable(tf.random_uniform([vocab_size, embedding_size_w], -1.0, 1.0), name=\"word_embedding\")"
   ]
  },
  {
   "cell_type": "code",
   "execution_count": 414,
   "metadata": {
    "collapsed": true,
    "deletable": true,
    "editable": true
   },
   "outputs": [],
   "source": [
    "# Define weights for the output unit \n",
    "weights = tf.Variable(tf.truncated_normal([vocab_size, combined_embed_vector_length], \n",
    "                                       stddev=1.0 / math.sqrt(combined_embed_vector_length)))\n",
    "biases = tf.Variable(tf.zeros(vocab_size))"
   ]
  },
  {
   "cell_type": "code",
   "execution_count": 415,
   "metadata": {
    "collapsed": true,
    "deletable": true,
    "editable": true
   },
   "outputs": [],
   "source": [
    "embed = []\n",
    "\n",
    "# generating a vector of size embedding_size_d\n",
    "embed_w = tf.zeros([1, embedding_size_w], dtype=tf.float32)\n",
    "\n",
    "# add all the word vecs in window_size\n",
    "for j in range(window_size):\n",
    "    embed_w += tf.nn.embedding_lookup(word_embedding, train_wX[j])\n",
    "embed.append(embed_w)\n",
    "\n",
    "# Add the doc2vec from the doc_embedding \n",
    "embed_d = tf.nn.embedding_lookup(doc_embedding, train_dX)\n",
    "embed.append(embed_d)\n",
    "\n",
    "embed = tf.concat(1, embed)\n",
    "embed = tf.reshape(embed, [1, 30])"
   ]
  },
  {
   "cell_type": "code",
   "execution_count": 416,
   "metadata": {
    "collapsed": true,
    "deletable": true,
    "editable": true
   },
   "outputs": [],
   "source": [
    "loss = tf.nn.sampled_softmax_loss(weights=weights, \\\n",
    "                                  biases=biases, \\\n",
    "                                  labels=train_label, \\\n",
    "                                  inputs=embed, \\\n",
    "                                  num_sampled=n_neg_samples, \\\n",
    "                                  num_classes=vocab_size)"
   ]
  },
  {
   "cell_type": "code",
   "execution_count": 417,
   "metadata": {
    "collapsed": true,
    "deletable": true,
    "editable": true
   },
   "outputs": [],
   "source": [
    "loss = tf.reduce_mean(loss)"
   ]
  },
  {
   "cell_type": "code",
   "execution_count": 418,
   "metadata": {
    "collapsed": true,
    "deletable": true,
    "editable": true
   },
   "outputs": [],
   "source": [
    "optimizer = tf.train.AdagradOptimizer(learning_rate).minimize(loss)"
   ]
  },
  {
   "cell_type": "code",
   "execution_count": 419,
   "metadata": {
    "collapsed": false,
    "deletable": true,
    "editable": true,
    "scrolled": false
   },
   "outputs": [
    {
     "name": "stdout",
     "output_type": "stream",
     "text": [
      "Error at epoch :  0  =  2520.80032051\n",
      "Error at epoch :  10  =  886.39744515\n",
      "Error at epoch :  20  =  544.11700458\n",
      "Error at epoch :  30  =  395.083735029\n",
      "Error at epoch :  40  =  346.862789014\n",
      "Error at epoch :  50  =  309.993764842\n",
      "Error at epoch :  60  =  284.729109015\n",
      "Error at epoch :  70  =  204.43311302\n",
      "Error at epoch :  80  =  211.302371941\n",
      "Error at epoch :  90  =  180.024087923\n",
      "Error at epoch :  100  =  154.81982552\n",
      "Error at epoch :  110  =  146.338269572\n",
      "Error at epoch :  120  =  154.849999735\n",
      "Error at epoch :  130  =  136.067183527\n",
      "Error at epoch :  140  =  144.886522917\n",
      "Error at epoch :  150  =  118.898776268\n",
      "Error at epoch :  160  =  108.835737216\n",
      "Error at epoch :  170  =  124.956207986\n",
      "Error at epoch :  180  =  105.258146477\n",
      "Error at epoch :  190  =  86.2899091992\n",
      "Error at epoch :  200  =  112.497654662\n",
      "Model saved in file: ./models/model.ckpt\n"
     ]
    }
   ],
   "source": [
    "saver = tf.train.Saver()\n",
    "\n",
    "with tf.Session() as sess:\n",
    "    init = tf.global_variables_initializer()\n",
    "    sess.run(init)\n",
    "    average_loss = 0\n",
    "    \n",
    "    for step in range(epochs):\n",
    "        epoch_error = 0.0\n",
    "        for id_, repr_ in zip(doc_ids, doc_repr):\n",
    "            if len(repr_) < window_size + 1:\n",
    "                continue\n",
    "            count = random.randint(1, 5)\n",
    "            for cn in range(count):\n",
    "                sample_window = random.sample(repr_, window_size + 1)\n",
    "\n",
    "                feed_dict = {train_wX : sample_window[:-1],\\\n",
    "                             train_dX : [id_], \\\n",
    "                             train_label : np.array([sample_window[-1]]).reshape(-1, 1)}\n",
    "                                \n",
    "                #print feed_dict\n",
    "                op, l = sess.run([optimizer, loss], \n",
    "                                    feed_dict=feed_dict)\n",
    "                \n",
    "                epoch_error += l\n",
    "                \n",
    "        if step % 10 == 0:\n",
    "            print \"Error at epoch : \", step, \" = \", epoch_error\n",
    "            \n",
    "    save_path = saver.save(sess, \"./models/model_pvdm.ckpt\")\n",
    "    print(\"Model saved in file: %s\" % save_path)"
   ]
  },
  {
   "cell_type": "code",
   "execution_count": 420,
   "metadata": {
    "collapsed": false,
    "deletable": true,
    "editable": true
   },
   "outputs": [
    {
     "name": "stdout",
     "output_type": "stream",
     "text": [
      "Model restored.\n",
      "('Train F1-score : ', 0.60350877192982455)\n",
      "('Test F1-score : ', 0.49038461538461536)\n"
     ]
    }
   ],
   "source": [
    "doc_pvdm = None\n",
    "\n",
    "with tf.Session() as sess:\n",
    "    # Restore variables from disk.\n",
    "    saver.restore(sess, \"./models/model.ckpt\")\n",
    "    print(\"Model restored.\")\n",
    "    \n",
    "    # Normalize word2vec \n",
    "    norm_w = tf.sqrt(tf.reduce_sum(tf.square(word_embedding), 1, keep_dims=True))\n",
    "    normalized_word_embeddings = word_embedding / norm_w\n",
    "    word2vec = normalized_word_embeddings.eval()\n",
    "    \n",
    "    # Normalize doc2vec \n",
    "    norm_d = tf.sqrt(tf.reduce_sum(tf.square(doc_embedding), 1, keep_dims=True))\n",
    "    normalized_doc_embeddings = doc_embedding / norm_d\n",
    "    \n",
    "    # Find performance \n",
    "    performanceTest(normalized_doc_embeddings.eval(), imdb_data['sentiment'][:1000], method=None)\n",
    "    doc_pvdm = normalized_doc_embeddings.eval()"
   ]
  },
  {
   "cell_type": "code",
   "execution_count": null,
   "metadata": {
    "collapsed": true,
    "deletable": true,
    "editable": true
   },
   "outputs": [],
   "source": []
  },
  {
   "cell_type": "markdown",
   "metadata": {
    "collapsed": true,
    "deletable": true,
    "editable": true
   },
   "source": [
    "### Adding batchsizes for speedup"
   ]
  },
  {
   "cell_type": "code",
   "execution_count": 14,
   "metadata": {
    "collapsed": true,
    "deletable": true,
    "editable": true
   },
   "outputs": [],
   "source": [
    "bucket_list = []\n",
    "\n",
    "def generate_batch_pvdm(doc_ids, doc_repr, sample_size=5, batch_size=100, window_size=3):\n",
    "    global bucket_list\n",
    "\n",
    "    docs_ids_to_select = list(set(doc_ids) - set(bucket_list))\n",
    "    \n",
    "    \n",
    "    if len(docs_ids_to_select) < batch_size//sample_size:\n",
    "        bucket_list = []\n",
    "        docs_ids_to_select = doc_ids\n",
    "        \n",
    "    index = 0 \n",
    "    train_wX = np.ndarray(shape=(batch_size, window_size), dtype=np.int32)\n",
    "    train_dX = np.ndarray(shape=(batch_size, 1), dtype=np.int32)\n",
    "    train_label = np.ndarray(shape=(batch_size, 1), dtype=np.int32)\n",
    "    random_docs = random.sample(docs_ids_to_select, batch_size//sample_size)    # Choose set of random documents \n",
    "\n",
    "    bucket_list += random_docs\n",
    "    \n",
    "    for id_ in random_docs:\n",
    "        for j in range(sample_size):                                 # Generating a dataset of sample size \n",
    "            sample_window = random.sample(doc_repr[id_], window_size + 1)\n",
    "            train_wX[index] = sample_window[:-1]\n",
    "            train_dX[index] = id_\n",
    "            train_label[index] = sample_window[-1]  \n",
    "            index += 1\n",
    "    return train_wX, train_dX, train_label "
   ]
  },
  {
   "cell_type": "code",
   "execution_count": 15,
   "metadata": {
    "collapsed": true,
    "deletable": true,
    "editable": true
   },
   "outputs": [],
   "source": [
    "doc_size = len(docs)\n",
    "embedding_size_w = 50\n",
    "embedding_size_d = 50\n",
    "vocab_size = len(word2ids)\n",
    "window_size = 3\n",
    "n_neg_samples = 10\n",
    "learning_rate = 0.001\n",
    "epochs = 10001\n",
    "batch_size=100\n",
    "combined_embed_vector_length = embedding_size_d + embedding_size_w"
   ]
  },
  {
   "cell_type": "code",
   "execution_count": 16,
   "metadata": {
    "collapsed": true,
    "deletable": true,
    "editable": true
   },
   "outputs": [],
   "source": [
    "# Define placeholders for training \n",
    "train_wX = tf.placeholder(tf.int32, shape=[batch_size, window_size])\n",
    "train_dX = tf.placeholder(tf.int32, shape=[batch_size, 1])\n",
    "train_label = tf.placeholder(tf.int32, shape=[batch_size, 1])"
   ]
  },
  {
   "cell_type": "code",
   "execution_count": 17,
   "metadata": {
    "collapsed": true,
    "deletable": true,
    "editable": true
   },
   "outputs": [],
   "source": [
    "# Define matrix for doc_embedding and word_embedding \n",
    "doc_embedding = tf.Variable(tf.random_uniform([doc_size, embedding_size_d], -1.0, 1.0), name=\"doc_embedding\")\n",
    "word_embedding = tf.Variable(tf.random_uniform([vocab_size, embedding_size_w], -1.0, 1.0), name=\"word_embedding\")"
   ]
  },
  {
   "cell_type": "code",
   "execution_count": 18,
   "metadata": {
    "collapsed": true,
    "deletable": true,
    "editable": true
   },
   "outputs": [],
   "source": [
    "# Define weights for the output unit \n",
    "weights = tf.Variable(tf.truncated_normal([vocab_size, combined_embed_vector_length], \n",
    "                                       stddev=1.0 / math.sqrt(combined_embed_vector_length)))\n",
    "biases = tf.Variable(tf.zeros(vocab_size))"
   ]
  },
  {
   "cell_type": "code",
   "execution_count": 19,
   "metadata": {
    "collapsed": false,
    "deletable": true,
    "editable": true
   },
   "outputs": [
    {
     "name": "stdout",
     "output_type": "stream",
     "text": [
      "Tensor(\"add_2:0\", shape=(100, 50), dtype=float32) Tensor(\"embedding_lookup_3:0\", shape=(100, 50), dtype=float32)\n"
     ]
    }
   ],
   "source": [
    "embed = []\n",
    "\n",
    "# generating a vector of size embedding_size_d\n",
    "embed_w = tf.zeros([1, embedding_size_w], dtype=tf.float32)\n",
    "\n",
    "# add all the word vecs in window_size\n",
    "for j in range(window_size):\n",
    "    embed_w += tf.nn.embedding_lookup(word_embedding, train_wX[:, j])\n",
    "embed.append(embed_w)\n",
    "\n",
    "# Add the doc2vec from the doc_embedding \n",
    "embed_d = tf.nn.embedding_lookup(doc_embedding, train_dX[:, 0])\n",
    "embed.append(embed_d)\n",
    "\n",
    "print embed_w, embed_d\n",
    "\n",
    "embed = tf.concat(1, embed)"
   ]
  },
  {
   "cell_type": "code",
   "execution_count": 20,
   "metadata": {
    "collapsed": true,
    "deletable": true,
    "editable": true
   },
   "outputs": [],
   "source": [
    "loss = tf.nn.sampled_softmax_loss(weights=weights, \\\n",
    "                                  biases=biases, \\\n",
    "                                  labels=train_label, \\\n",
    "                                  inputs=embed, \\\n",
    "                                  num_sampled=n_neg_samples, \\\n",
    "                                  num_classes=vocab_size)"
   ]
  },
  {
   "cell_type": "code",
   "execution_count": 21,
   "metadata": {
    "collapsed": true,
    "deletable": true,
    "editable": true
   },
   "outputs": [],
   "source": [
    "loss = tf.reduce_mean(loss)"
   ]
  },
  {
   "cell_type": "code",
   "execution_count": 22,
   "metadata": {
    "collapsed": true,
    "deletable": true,
    "editable": true
   },
   "outputs": [],
   "source": [
    "optimizer = tf.train.AdagradOptimizer(learning_rate).minimize(loss)"
   ]
  },
  {
   "cell_type": "code",
   "execution_count": 24,
   "metadata": {
    "collapsed": false,
    "deletable": true,
    "editable": true
   },
   "outputs": [
    {
     "name": "stdout",
     "output_type": "stream",
     "text": [
      "Error at epoch :  0  =  1.45035922527\n",
      "Error at epoch :  100  =  0.861364662647\n",
      "Error at epoch :  200  =  0.534089505672\n",
      "Error at epoch :  300  =  0.224895864725\n",
      "Error at epoch :  400  =  0.449635922909\n",
      "Error at epoch :  500  =  0.843355894089\n",
      "Error at epoch :  600  =  0.572692930698\n",
      "Error at epoch :  700  =  0.493505209684\n",
      "Error at epoch :  800  =  0.313163936138\n",
      "Error at epoch :  900  =  0.19425176084\n",
      "Error at epoch :  1000  =  0.163071140647\n",
      "Error at epoch :  1100  =  0.411459475756\n",
      "Error at epoch :  1200  =  0.381399065256\n",
      "Error at epoch :  1300  =  0.184928506613\n",
      "Error at epoch :  1400  =  0.30418291688\n",
      "Error at epoch :  1500  =  0.266025871038\n",
      "Error at epoch :  1600  =  0.139435440302\n",
      "Error at epoch :  1700  =  0.360074162483\n",
      "Error at epoch :  1800  =  0.204637780786\n",
      "Error at epoch :  1900  =  0.142543405294\n",
      "Error at epoch :  2000  =  0.180082321167\n",
      "Error at epoch :  2100  =  0.183718562126\n",
      "Error at epoch :  2200  =  0.15387262404\n",
      "Error at epoch :  2300  =  0.0413739867508\n",
      "Error at epoch :  2400  =  0.125939592719\n",
      "Error at epoch :  2500  =  0.213802531362\n",
      "Error at epoch :  2600  =  0.208941861987\n",
      "Error at epoch :  2700  =  0.13375620544\n",
      "Error at epoch :  2800  =  0.1456271559\n",
      "Error at epoch :  2900  =  0.135624483228\n",
      "Error at epoch :  3000  =  0.0756099000573\n",
      "Error at epoch :  3100  =  0.152310281992\n",
      "Error at epoch :  3200  =  0.0767532736063\n",
      "Error at epoch :  3300  =  0.147191926837\n",
      "Error at epoch :  3400  =  0.0924683362246\n",
      "Error at epoch :  3500  =  0.117473945022\n",
      "Error at epoch :  3600  =  0.162050306797\n",
      "Error at epoch :  3700  =  0.165305614471\n",
      "Error at epoch :  3800  =  0.291968286037\n",
      "Error at epoch :  3900  =  0.194165080786\n",
      "Error at epoch :  4000  =  0.151906207204\n",
      "Error at epoch :  4100  =  0.114537298679\n",
      "Error at epoch :  4200  =  0.0860776305199\n",
      "Error at epoch :  4300  =  0.0801060423255\n",
      "Error at epoch :  4400  =  0.0943333804607\n",
      "Error at epoch :  4500  =  0.460712134838\n",
      "Error at epoch :  4600  =  0.164109185338\n",
      "Error at epoch :  4700  =  0.0437251962721\n",
      "Error at epoch :  4800  =  0.0879989787936\n",
      "Error at epoch :  4900  =  0.0532457977533\n",
      "Error at epoch :  5000  =  0.0491133593023\n",
      "Error at epoch :  5100  =  0.136588662863\n",
      "Error at epoch :  5200  =  0.159744948149\n",
      "Error at epoch :  5300  =  0.126985371113\n",
      "Error at epoch :  5400  =  0.0722507014871\n",
      "Error at epoch :  5500  =  0.10096783936\n",
      "Error at epoch :  5600  =  0.0652941018343\n",
      "Error at epoch :  5700  =  0.112762108445\n",
      "Error at epoch :  5800  =  0.0794151946902\n",
      "Error at epoch :  5900  =  0.0643592551351\n",
      "Error at epoch :  6000  =  0.037819236517\n",
      "Error at epoch :  6100  =  0.0798382461071\n",
      "Error at epoch :  6200  =  0.0404515750706\n",
      "Error at epoch :  6300  =  0.0306929368526\n",
      "Error at epoch :  6400  =  0.0674246251583\n",
      "Error at epoch :  6500  =  0.030367475003\n",
      "Error at epoch :  6600  =  0.00877200718969\n",
      "Error at epoch :  6700  =  0.0942189395428\n",
      "Error at epoch :  6800  =  0.0618606284261\n",
      "Error at epoch :  6900  =  0.0432771667838\n",
      "Error at epoch :  7000  =  0.101258888841\n",
      "Error at epoch :  7100  =  0.136973261833\n",
      "Error at epoch :  7200  =  0.0385364405811\n",
      "Error at epoch :  7300  =  0.0721442475915\n",
      "Error at epoch :  7400  =  0.0357294082642\n",
      "Error at epoch :  7500  =  0.0719374194741\n",
      "Error at epoch :  7600  =  0.0426067225635\n",
      "Error at epoch :  7700  =  0.109267577529\n",
      "Error at epoch :  7800  =  0.0520482435822\n",
      "Error at epoch :  7900  =  0.0511824786663\n",
      "Error at epoch :  8000  =  0.0198827665299\n",
      "Error at epoch :  8100  =  0.0783783644438\n",
      "Error at epoch :  8200  =  0.0294024180621\n",
      "Error at epoch :  8300  =  0.0246565956622\n",
      "Error at epoch :  8400  =  0.0286164134741\n",
      "Error at epoch :  8500  =  0.0451097115874\n",
      "Error at epoch :  8600  =  0.0707469210029\n",
      "Error at epoch :  8700  =  0.342206656933\n",
      "Error at epoch :  8800  =  0.0403107888997\n",
      "Error at epoch :  8900  =  0.10008443892\n",
      "Error at epoch :  9000  =  0.0469195991755\n",
      "Error at epoch :  9100  =  0.0482599847019\n",
      "Error at epoch :  9200  =  0.0531852990389\n",
      "Error at epoch :  9300  =  0.063729301095\n",
      "Error at epoch :  9400  =  0.0450482666492\n",
      "Error at epoch :  9500  =  0.028591291979\n",
      "Error at epoch :  9600  =  0.0342768058181\n",
      "Error at epoch :  9700  =  0.0241998583078\n",
      "Error at epoch :  9800  =  0.115265958011\n",
      "Error at epoch :  9900  =  0.0413113199174\n",
      "Error at epoch :  10000  =  0.0532788932323\n",
      "Model saved in file: ../models/model_pvdm_batch_training.ckpt\n"
     ]
    }
   ],
   "source": [
    "saver = tf.train.Saver()\n",
    "\n",
    "with tf.Session() as sess:\n",
    "    init = tf.global_variables_initializer()\n",
    "    sess.run(init)\n",
    "    average_loss = 0\n",
    "    \n",
    "    for step in range(epochs):\n",
    "        epoch_error = 0.0\n",
    "        temp_wX , temp_dX, temp_labels = generate_batch_pvdm(doc_ids=doc_ids, doc_repr=doc_repr)\n",
    "        feed_dict = {train_wX : temp_wX, train_dX : temp_dX,train_label : temp_labels}\n",
    "        op, l = sess.run([optimizer, loss], \n",
    "                                    feed_dict=feed_dict)\n",
    "        \n",
    "        epoch_error += l\n",
    "                \n",
    "        if step % 100 == 0:\n",
    "            print \"Error at epoch : \", step, \" = \", epoch_error\n",
    "            \n",
    "    save_path = saver.save(sess, \"../models/model_pvdm_batch_training.ckpt\")\n",
    "    print(\"Model saved in file: %s\" % save_path)"
   ]
  },
  {
   "cell_type": "code",
   "execution_count": null,
   "metadata": {
    "collapsed": true,
    "deletable": true,
    "editable": true
   },
   "outputs": [],
   "source": []
  },
  {
   "cell_type": "markdown",
   "metadata": {
    "deletable": true,
    "editable": true
   },
   "source": [
    "### Evaluation of the representation "
   ]
  },
  {
   "cell_type": "code",
   "execution_count": 643,
   "metadata": {
    "collapsed": false,
    "deletable": true,
    "editable": true
   },
   "outputs": [
    {
     "name": "stdout",
     "output_type": "stream",
     "text": [
      "Model restored.\n",
      "('Train F1-score : ', 0.50706870732759712)\n",
      "('Test F1-score : ', 0.4936835773009825)\n"
     ]
    }
   ],
   "source": [
    "doc_pvdm = None\n",
    "\n",
    "with tf.Session() as sess:\n",
    "    saver = tf.train.Saver()\n",
    "    # Restore variables from disk.\n",
    "    saver.restore(sess, \"./models/model_pvdm_batch_training.ckpt\")\n",
    "    print(\"Model restored.\")\n",
    "    \n",
    "    # Normalize word2vec \n",
    "    norm_w = tf.sqrt(tf.reduce_sum(tf.square(word_embedding), 1, keep_dims=True))\n",
    "    normalized_word_embeddings = word_embedding / norm_w\n",
    "    word2vec = normalized_word_embeddings.eval()\n",
    "    \n",
    "    # Normalize doc2vec \n",
    "    norm_d = tf.sqrt(tf.reduce_sum(tf.square(doc_embedding), 1, keep_dims=True))\n",
    "    normalized_doc_embeddings = doc_embedding / norm_d\n",
    "    \n",
    "    # Find performance \n",
    "    performanceTest(normalized_doc_embeddings.eval(), imdb_data['sentiment'], method=None)\n",
    "    \n",
    "    doc_pvdm = normalized_doc_embeddings.eval()"
   ]
  },
  {
   "cell_type": "code",
   "execution_count": null,
   "metadata": {
    "collapsed": true,
    "deletable": true,
    "editable": true
   },
   "outputs": [],
   "source": []
  }
 ],
 "metadata": {
  "kernelspec": {
   "display_name": "deep_learning_kernel",
   "language": "python",
   "name": "deep_learning_kernel"
  },
  "language_info": {
   "codemirror_mode": {
    "name": "ipython",
    "version": 2
   },
   "file_extension": ".py",
   "mimetype": "text/x-python",
   "name": "python",
   "nbconvert_exporter": "python",
   "pygments_lexer": "ipython2",
   "version": "2.7.12"
  }
 },
 "nbformat": 4,
 "nbformat_minor": 2
}
