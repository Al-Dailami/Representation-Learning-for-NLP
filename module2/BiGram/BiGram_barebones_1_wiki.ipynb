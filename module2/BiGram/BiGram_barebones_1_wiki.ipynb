{
 "cells": [
  {
   "cell_type": "markdown",
   "metadata": {},
   "source": [
    "---------\n",
    "\n",
    "# Gentle introduction to BiGram model\n",
    "\n",
    "----------\n",
    "\n",
    "### Objective is correctness and clarity of basic concepts and not efficiency\n",
    "\n",
    "#### Author : Anuj\n",
    "\n",
    "#### Uses Wikipedia Dataset"
   ]
  },
  {
   "cell_type": "code",
   "execution_count": 1,
   "metadata": {
    "collapsed": true
   },
   "outputs": [],
   "source": [
    "import sys\n",
    "import tensorflow as tf\n",
    "import numpy as np\n",
    "import random\n",
    "import itertools"
   ]
  },
  {
   "cell_type": "code",
   "execution_count": 2,
   "metadata": {
    "collapsed": true
   },
   "outputs": [],
   "source": [
    "sys.path.append(\"../../Utils/\")"
   ]
  },
  {
   "cell_type": "code",
   "execution_count": 3,
   "metadata": {
    "collapsed": true
   },
   "outputs": [],
   "source": [
    "from readWikiData import get_wikipedia_data"
   ]
  },
  {
   "cell_type": "code",
   "execution_count": null,
   "metadata": {
    "collapsed": true
   },
   "outputs": [],
   "source": []
  },
  {
   "cell_type": "code",
   "execution_count": 4,
   "metadata": {
    "collapsed": true
   },
   "outputs": [],
   "source": [
    "def get_wiki_data(n_vocab_=1000):\n",
    "    sentences, word2idx = get_wikipedia_data(n_vocab=n_vocab_, n_files=10, by_paragraph=True)\n",
    "    training_data = []\n",
    "    vocab_size = len(word2idx)\n",
    "    for sentence in sentences:\n",
    "        for elem1, elem2 in zip(sentence[:-1], sentence[1:]):\n",
    "            training_data.append((elem1, elem2))\n",
    "    \n",
    "    # this destroys the order of words in a wondow but for bigram its harmless\n",
    "    # all we want is - pair of all bigrams\n",
    "    training_data = list(set(training_data))   \n",
    "    \n",
    "    idx2word = {v:k for k, v in word2idx.iteritems()}\n",
    "    return len(word2idx), training_data, word2idx, idx2word"
   ]
  },
  {
   "cell_type": "code",
   "execution_count": 5,
   "metadata": {
    "collapsed": true
   },
   "outputs": [],
   "source": [
    "vocab_size, training_data, word2idx, idx2word = get_wiki_data(n_vocab_=9999)"
   ]
  },
  {
   "cell_type": "code",
   "execution_count": 6,
   "metadata": {},
   "outputs": [
    {
     "name": "stdout",
     "output_type": "stream",
     "text": [
      "10000\n",
      "<type 'list'>\n"
     ]
    }
   ],
   "source": [
    "print vocab_size\n",
    "print type(training_data)"
   ]
  },
  {
   "cell_type": "code",
   "execution_count": 7,
   "metadata": {},
   "outputs": [
    {
     "data": {
      "text/plain": [
       "[(1760, 65),\n",
       " (178, 1155),\n",
       " (2711, 159),\n",
       " (607, 1522),\n",
       " (312, 241),\n",
       " (9999, 5827),\n",
       " (741, 1932),\n",
       " (3102, 2312),\n",
       " (2926, 6061),\n",
       " (390, 2036)]"
      ]
     },
     "execution_count": 7,
     "metadata": {},
     "output_type": "execute_result"
    }
   ],
   "source": [
    "training_data[:10]"
   ]
  },
  {
   "cell_type": "markdown",
   "metadata": {},
   "source": [
    "##### Get batches"
   ]
  },
  {
   "cell_type": "code",
   "execution_count": 8,
   "metadata": {
    "collapsed": true
   },
   "outputs": [],
   "source": [
    "# contains list of pairs that have already been selected\n",
    "bucket_list = []\n",
    "\n",
    "def getNextBatch(bi_grams_, batch_size=1000):\n",
    "    \n",
    "    global bucket_list\n",
    "    \n",
    "    # list of possible pairs to pick from\n",
    "    docs_ids_to_select = list(set(bi_grams_) - set(bucket_list))\n",
    "    \n",
    "    # once you exhaust the possible pais, reset\n",
    "    if len(docs_ids_to_select) < batch_size:\n",
    "        bucket_list = []\n",
    "        docs_ids_to_select = bi_grams_\n",
    "        \n",
    "    # Initialize two variables \n",
    "    train_X = np.ndarray(shape=(batch_size, 1), dtype=np.int32)\n",
    "    train_label = np.ndarray(shape=(batch_size, 1), dtype=np.int32)\n",
    "    \n",
    "    # pick a random chunks of pairs \n",
    "    random_docs = random.sample(docs_ids_to_select, batch_size)\n",
    "    bucket_list += random_docs\n",
    "    \n",
    "    index = 0 \n",
    "    \n",
    "    # Iterate threw all the docs \n",
    "    for item in random_docs:\n",
    "        train_X[index] = item[0]\n",
    "        train_label[index] = item[1]  \n",
    "        index += 1\n",
    "        \n",
    "    #flatten list of lists to a single list\n",
    "    train_X = list(itertools.chain(*train_X))\n",
    "    train_label = list(itertools.chain(*train_label))\n",
    "            \n",
    "    return train_X, train_label"
   ]
  },
  {
   "cell_type": "code",
   "execution_count": 9,
   "metadata": {
    "collapsed": true
   },
   "outputs": [],
   "source": [
    "X, Y = getNextBatch(bi_grams_=training_data, batch_size=32)"
   ]
  },
  {
   "cell_type": "code",
   "execution_count": 10,
   "metadata": {},
   "outputs": [
    {
     "name": "stdout",
     "output_type": "stream",
     "text": [
      "32 32\n"
     ]
    }
   ],
   "source": [
    "print len(X), len(Y)"
   ]
  },
  {
   "cell_type": "code",
   "execution_count": 11,
   "metadata": {},
   "outputs": [
    {
     "name": "stdout",
     "output_type": "stream",
     "text": [
      "[1765, 1462, 4191, 3, 27, 135, 2228, 1165, 6, 5655] [1909, 4, 158, 9193, 9460, 2384, 352, 1284, 5070, 1996]\n"
     ]
    }
   ],
   "source": [
    "print X[:10], Y[:10]"
   ]
  },
  {
   "cell_type": "markdown",
   "metadata": {},
   "source": [
    "# Network"
   ]
  },
  {
   "cell_type": "code",
   "execution_count": 12,
   "metadata": {},
   "outputs": [
    {
     "name": "stdout",
     "output_type": "stream",
     "text": [
      "Number of batches = 51873\n"
     ]
    }
   ],
   "source": [
    "batch_size=32\n",
    "num_batches = len(training_data)/batch_size\n",
    "\n",
    "print \"Number of batches = %d\" %num_batches\n",
    "\n",
    "embedding_dims = 128\n",
    "\n"
   ]
  },
  {
   "cell_type": "code",
   "execution_count": 13,
   "metadata": {
    "collapsed": true
   },
   "outputs": [],
   "source": [
    "X = tf.placeholder(shape=(batch_size,), dtype = tf.int32)\n",
    "Y = tf.placeholder(shape=(batch_size,), dtype = tf.int32)"
   ]
  },
  {
   "cell_type": "code",
   "execution_count": 14,
   "metadata": {
    "collapsed": true
   },
   "outputs": [],
   "source": [
    "y_oh = tf.one_hot(indices=X, depth=vocab_size)"
   ]
  },
  {
   "cell_type": "code",
   "execution_count": 15,
   "metadata": {},
   "outputs": [
    {
     "name": "stdout",
     "output_type": "stream",
     "text": [
      "(32,)\n",
      "(32,)\n",
      "(32, 10000)\n"
     ]
    }
   ],
   "source": [
    "print X.get_shape()\n",
    "print Y.get_shape()\n",
    "print y_oh.get_shape()"
   ]
  },
  {
   "cell_type": "code",
   "execution_count": 16,
   "metadata": {
    "collapsed": true
   },
   "outputs": [],
   "source": [
    "embedding_layer_1 = tf.Variable(tf.truncated_normal(shape=(vocab_size, embedding_dims), \n",
    "                                                    mean=0.0, stddev=1.0, dtype=tf.float32))\n",
    "embeded = tf.nn.embedding_lookup(embedding_layer_1, ids=X)"
   ]
  },
  {
   "cell_type": "code",
   "execution_count": 17,
   "metadata": {},
   "outputs": [
    {
     "data": {
      "text/plain": [
       "TensorShape([Dimension(32), Dimension(128)])"
      ]
     },
     "execution_count": 17,
     "metadata": {},
     "output_type": "execute_result"
    }
   ],
   "source": [
    "embeded.get_shape()"
   ]
  },
  {
   "cell_type": "code",
   "execution_count": 18,
   "metadata": {
    "collapsed": true
   },
   "outputs": [],
   "source": [
    "#softmax weights, bias\n",
    "W = tf.Variable(tf.truncated_normal(shape=(embedding_dims, vocab_size),mean=0.0, stddev=1.0, dtype=tf.float32))\n",
    "b = tf.Variable(tf.zeros(shape=(vocab_size,)))\n"
   ]
  },
  {
   "cell_type": "code",
   "execution_count": 19,
   "metadata": {
    "collapsed": true
   },
   "outputs": [],
   "source": [
    "logits = tf.add(tf.matmul(embeded, W), b )\n",
    "\n",
    "#define loss\n",
    "loss = tf.nn.softmax_cross_entropy_with_logits(logits=logits, labels=y_oh)\n",
    "mean_loss = tf.reduce_mean(loss)"
   ]
  },
  {
   "cell_type": "code",
   "execution_count": 20,
   "metadata": {},
   "outputs": [
    {
     "name": "stdout",
     "output_type": "stream",
     "text": [
      "(32, 10000)\n",
      "(32, 10000)\n"
     ]
    }
   ],
   "source": [
    "print logits.get_shape()\n",
    "print y_oh.get_shape()"
   ]
  },
  {
   "cell_type": "code",
   "execution_count": null,
   "metadata": {
    "collapsed": true
   },
   "outputs": [],
   "source": []
  },
  {
   "cell_type": "code",
   "execution_count": null,
   "metadata": {
    "collapsed": true
   },
   "outputs": [],
   "source": [
    "optimizer = tf.train.GradientDescentOptimizer(0.5).minimize(mean_loss)"
   ]
  },
  {
   "cell_type": "code",
   "execution_count": null,
   "metadata": {
    "collapsed": true
   },
   "outputs": [],
   "source": []
  },
  {
   "cell_type": "code",
   "execution_count": null,
   "metadata": {},
   "outputs": [
    {
     "name": "stdout",
     "output_type": "stream",
     "text": [
      "For epoch = 0, batch id = 0, batch loss = 34.944450\n",
      "For epoch = 0, batch id = 100, batch loss = 22.260839\n",
      "For epoch = 0, batch id = 200, batch loss = 28.357044\n",
      "For epoch = 0, batch id = 300, batch loss = 19.202122\n",
      "For epoch = 0, batch id = 400, batch loss = 22.840021\n",
      "For epoch = 0, batch id = 500, batch loss = 21.566307\n",
      "For epoch = 0, batch id = 600, batch loss = 24.463963\n",
      "For epoch = 0, batch id = 700, batch loss = 19.428789\n",
      "For epoch = 0, batch id = 800, batch loss = 21.350128\n",
      "For epoch = 0, batch id = 900, batch loss = 15.149411\n",
      "For epoch = 0, batch id = 1000, batch loss = 10.501477\n",
      "For epoch = 0, batch id = 1100, batch loss = 12.187577\n",
      "For epoch = 0, batch id = 1200, batch loss = 13.441860\n",
      "For epoch = 0, batch id = 1300, batch loss = 12.414009\n",
      "For epoch = 0, batch id = 1400, batch loss = 12.124501\n",
      "For epoch = 0, batch id = 1500, batch loss = 14.664598\n",
      "For epoch = 0, batch id = 1600, batch loss = 12.191111\n",
      "For epoch = 0, batch id = 1700, batch loss = 11.134320\n",
      "For epoch = 0, batch id = 1800, batch loss = 9.567376\n",
      "For epoch = 0, batch id = 1900, batch loss = 6.268155\n",
      "For epoch = 0, batch id = 2000, batch loss = 8.061248\n",
      "For epoch = 0, batch id = 2100, batch loss = 7.857186\n",
      "For epoch = 0, batch id = 2200, batch loss = 6.532895\n",
      "For epoch = 0, batch id = 2300, batch loss = 6.968020\n",
      "For epoch = 0, batch id = 2400, batch loss = 5.691508\n",
      "For epoch = 0, batch id = 2500, batch loss = 9.382304\n",
      "For epoch = 0, batch id = 2600, batch loss = 4.753084\n",
      "For epoch = 0, batch id = 2700, batch loss = 6.638824\n",
      "For epoch = 0, batch id = 2800, batch loss = 7.764030\n",
      "For epoch = 0, batch id = 2900, batch loss = 4.303198\n",
      "For epoch = 0, batch id = 3000, batch loss = 2.830668\n",
      "For epoch = 0, batch id = 3100, batch loss = 4.986270\n",
      "For epoch = 0, batch id = 3200, batch loss = 7.189334\n",
      "For epoch = 0, batch id = 3300, batch loss = 2.386607\n",
      "For epoch = 0, batch id = 3400, batch loss = 6.817380\n",
      "For epoch = 0, batch id = 3500, batch loss = 4.018093\n",
      "For epoch = 0, batch id = 3600, batch loss = 3.439740\n",
      "For epoch = 0, batch id = 3700, batch loss = 2.651835\n",
      "For epoch = 0, batch id = 3800, batch loss = 4.016361\n",
      "For epoch = 0, batch id = 3900, batch loss = 5.400911\n",
      "For epoch = 0, batch id = 4000, batch loss = 4.018610\n",
      "For epoch = 0, batch id = 4100, batch loss = 5.955981\n",
      "For epoch = 0, batch id = 4200, batch loss = 4.635942\n",
      "For epoch = 0, batch id = 4300, batch loss = 3.396461\n",
      "For epoch = 0, batch id = 4400, batch loss = 3.514977\n",
      "For epoch = 0, batch id = 4500, batch loss = 2.656603\n",
      "For epoch = 0, batch id = 4600, batch loss = 2.288231\n",
      "For epoch = 0, batch id = 4700, batch loss = 2.739230\n",
      "For epoch = 0, batch id = 4800, batch loss = 2.978952\n",
      "For epoch = 0, batch id = 4900, batch loss = 2.718684\n",
      "For epoch = 0, batch id = 5000, batch loss = 2.055896\n",
      "For epoch = 0, batch id = 5100, batch loss = 1.065088\n",
      "For epoch = 0, batch id = 5200, batch loss = 3.367494\n",
      "For epoch = 0, batch id = 5300, batch loss = 3.406047\n",
      "For epoch = 0, batch id = 5400, batch loss = 2.608136\n",
      "For epoch = 0, batch id = 5500, batch loss = 4.591840\n",
      "For epoch = 0, batch id = 5600, batch loss = 1.803141\n",
      "For epoch = 0, batch id = 5700, batch loss = 1.202226\n",
      "For epoch = 0, batch id = 5800, batch loss = 2.928817\n",
      "For epoch = 0, batch id = 5900, batch loss = 1.985241\n",
      "For epoch = 0, batch id = 6000, batch loss = 1.403000\n",
      "For epoch = 0, batch id = 6100, batch loss = 1.563916\n",
      "For epoch = 0, batch id = 6200, batch loss = 1.021200\n",
      "For epoch = 0, batch id = 6300, batch loss = 1.390113\n",
      "For epoch = 0, batch id = 6400, batch loss = 0.887363\n",
      "For epoch = 0, batch id = 6500, batch loss = 0.750035\n",
      "For epoch = 0, batch id = 6600, batch loss = 0.954858\n",
      "For epoch = 0, batch id = 6700, batch loss = 1.236411\n",
      "For epoch = 0, batch id = 6800, batch loss = 0.545869\n",
      "For epoch = 0, batch id = 6900, batch loss = 1.922560\n",
      "For epoch = 0, batch id = 7000, batch loss = 1.158872\n",
      "For epoch = 0, batch id = 7100, batch loss = 1.602194\n",
      "For epoch = 0, batch id = 7200, batch loss = 0.435901\n",
      "For epoch = 0, batch id = 7300, batch loss = 1.076980\n",
      "For epoch = 0, batch id = 7400, batch loss = 0.026208\n",
      "For epoch = 0, batch id = 7500, batch loss = 0.385950\n",
      "For epoch = 0, batch id = 7600, batch loss = 1.171553\n",
      "For epoch = 0, batch id = 7700, batch loss = 1.106958\n",
      "For epoch = 0, batch id = 7800, batch loss = 0.435555\n",
      "For epoch = 0, batch id = 7900, batch loss = 0.414126\n",
      "For epoch = 0, batch id = 8000, batch loss = 0.217551\n",
      "For epoch = 0, batch id = 8100, batch loss = 1.307985\n",
      "For epoch = 0, batch id = 8200, batch loss = 0.107523\n",
      "For epoch = 0, batch id = 8300, batch loss = 0.775299\n",
      "For epoch = 0, batch id = 8400, batch loss = 2.298827\n",
      "For epoch = 0, batch id = 8500, batch loss = 0.196695\n",
      "For epoch = 0, batch id = 8600, batch loss = 1.396171\n",
      "For epoch = 0, batch id = 8700, batch loss = 1.622587\n",
      "For epoch = 0, batch id = 8800, batch loss = 0.453825\n",
      "For epoch = 0, batch id = 8900, batch loss = 0.476217\n",
      "For epoch = 0, batch id = 9000, batch loss = 0.872658\n",
      "For epoch = 0, batch id = 9100, batch loss = 0.972380\n",
      "For epoch = 0, batch id = 9200, batch loss = 0.734285\n",
      "For epoch = 0, batch id = 9300, batch loss = 0.547718\n",
      "For epoch = 0, batch id = 9400, batch loss = 0.595526\n",
      "For epoch = 0, batch id = 9500, batch loss = 0.677082\n",
      "For epoch = 0, batch id = 9600, batch loss = 0.455029\n",
      "For epoch = 0, batch id = 9700, batch loss = 2.475532\n",
      "For epoch = 0, batch id = 9800, batch loss = 1.222335\n",
      "For epoch = 0, batch id = 9900, batch loss = 1.393798\n",
      "For epoch = 0, batch id = 10000, batch loss = 1.333278\n",
      "For epoch = 0, batch id = 10100, batch loss = 0.085865\n",
      "For epoch = 0, batch id = 10200, batch loss = 0.453986\n",
      "For epoch = 0, batch id = 10300, batch loss = 1.088046\n",
      "For epoch = 0, batch id = 10400, batch loss = 0.905417\n",
      "For epoch = 0, batch id = 10500, batch loss = 0.911032\n",
      "For epoch = 0, batch id = 10600, batch loss = 0.105421\n",
      "For epoch = 0, batch id = 10700, batch loss = 0.045332\n",
      "For epoch = 0, batch id = 10800, batch loss = 1.639926\n",
      "For epoch = 0, batch id = 10900, batch loss = 0.016111\n",
      "For epoch = 0, batch id = 11000, batch loss = 0.294666\n",
      "For epoch = 0, batch id = 11100, batch loss = 0.365110\n",
      "For epoch = 0, batch id = 11200, batch loss = 0.707961\n",
      "For epoch = 0, batch id = 11300, batch loss = 0.088816\n",
      "For epoch = 0, batch id = 11400, batch loss = 0.403234\n",
      "For epoch = 0, batch id = 11500, batch loss = 0.142424\n",
      "For epoch = 0, batch id = 11600, batch loss = 0.940998\n",
      "For epoch = 0, batch id = 11700, batch loss = 0.016185\n",
      "For epoch = 0, batch id = 11800, batch loss = 0.357676\n",
      "For epoch = 0, batch id = 11900, batch loss = 1.109809\n",
      "For epoch = 0, batch id = 12000, batch loss = 0.016758\n",
      "For epoch = 0, batch id = 12100, batch loss = 0.457200\n",
      "For epoch = 0, batch id = 12200, batch loss = 0.177202\n",
      "For epoch = 0, batch id = 12300, batch loss = 0.255211\n",
      "For epoch = 0, batch id = 12400, batch loss = 0.436570\n",
      "For epoch = 0, batch id = 12500, batch loss = 0.030338\n",
      "For epoch = 0, batch id = 12600, batch loss = 0.016773\n",
      "For epoch = 0, batch id = 12700, batch loss = 0.639172\n",
      "For epoch = 0, batch id = 12800, batch loss = 0.083116\n",
      "For epoch = 0, batch id = 12900, batch loss = 0.017371\n",
      "For epoch = 0, batch id = 13000, batch loss = 0.091590\n",
      "For epoch = 0, batch id = 13100, batch loss = 1.340743\n",
      "For epoch = 0, batch id = 13200, batch loss = 1.015621\n",
      "For epoch = 0, batch id = 13300, batch loss = 0.017627\n",
      "For epoch = 0, batch id = 13400, batch loss = 0.422216\n",
      "For epoch = 0, batch id = 13500, batch loss = 0.554401\n",
      "For epoch = 0, batch id = 13600, batch loss = 0.036043\n",
      "For epoch = 0, batch id = 13700, batch loss = 0.841392\n",
      "For epoch = 0, batch id = 13800, batch loss = 0.190257\n",
      "For epoch = 0, batch id = 13900, batch loss = 0.022338\n",
      "For epoch = 0, batch id = 14000, batch loss = 0.073376\n",
      "For epoch = 0, batch id = 14100, batch loss = 0.269399\n",
      "For epoch = 0, batch id = 14200, batch loss = 0.020526\n",
      "For epoch = 0, batch id = 14300, batch loss = 0.075792\n",
      "For epoch = 0, batch id = 14400, batch loss = 0.291172\n",
      "For epoch = 0, batch id = 14500, batch loss = 0.449967\n",
      "For epoch = 0, batch id = 14600, batch loss = 0.014045\n",
      "For epoch = 0, batch id = 14700, batch loss = 0.017548\n",
      "For epoch = 0, batch id = 14800, batch loss = 0.185122\n",
      "For epoch = 0, batch id = 14900, batch loss = 0.303894\n",
      "For epoch = 0, batch id = 15000, batch loss = 0.009078\n"
     ]
    },
    {
     "name": "stdout",
     "output_type": "stream",
     "text": [
      "For epoch = 0, batch id = 15100, batch loss = 0.011483\n",
      "For epoch = 0, batch id = 15200, batch loss = 0.015334\n",
      "For epoch = 0, batch id = 15300, batch loss = 0.025417\n",
      "For epoch = 0, batch id = 15400, batch loss = 0.016619\n",
      "For epoch = 0, batch id = 15500, batch loss = 0.018761\n",
      "For epoch = 0, batch id = 15600, batch loss = 0.012567\n",
      "For epoch = 0, batch id = 15700, batch loss = 0.012401\n",
      "For epoch = 0, batch id = 15800, batch loss = 0.038524\n",
      "For epoch = 0, batch id = 15900, batch loss = 0.282930\n",
      "For epoch = 0, batch id = 16000, batch loss = 0.427495\n",
      "For epoch = 0, batch id = 16100, batch loss = 0.014297\n",
      "For epoch = 0, batch id = 16200, batch loss = 0.234705\n",
      "For epoch = 0, batch id = 16300, batch loss = 0.013233\n",
      "For epoch = 0, batch id = 16400, batch loss = 0.009728\n",
      "For epoch = 0, batch id = 16500, batch loss = 0.011396\n",
      "For epoch = 0, batch id = 16600, batch loss = 0.013931\n",
      "For epoch = 0, batch id = 16700, batch loss = 0.083291\n",
      "For epoch = 0, batch id = 16800, batch loss = 0.007719\n",
      "For epoch = 0, batch id = 16900, batch loss = 0.525831\n",
      "For epoch = 0, batch id = 17000, batch loss = 0.016264\n",
      "For epoch = 0, batch id = 17100, batch loss = 0.011338\n",
      "For epoch = 0, batch id = 17200, batch loss = 0.358081\n",
      "For epoch = 0, batch id = 17300, batch loss = 0.015018\n",
      "For epoch = 0, batch id = 17400, batch loss = 0.012893\n",
      "For epoch = 0, batch id = 17500, batch loss = 0.027932\n",
      "For epoch = 0, batch id = 17600, batch loss = 0.019261\n",
      "For epoch = 0, batch id = 17700, batch loss = 0.009327\n",
      "For epoch = 0, batch id = 17800, batch loss = 0.010419\n",
      "For epoch = 0, batch id = 17900, batch loss = 0.057144\n",
      "For epoch = 0, batch id = 18000, batch loss = 0.009839\n",
      "For epoch = 0, batch id = 18100, batch loss = 0.697892\n",
      "For epoch = 0, batch id = 18200, batch loss = 0.013654\n",
      "For epoch = 0, batch id = 18300, batch loss = 0.010840\n",
      "For epoch = 0, batch id = 18400, batch loss = 0.009770\n",
      "For epoch = 0, batch id = 18500, batch loss = 0.202203\n",
      "For epoch = 0, batch id = 18600, batch loss = 0.012438\n",
      "For epoch = 0, batch id = 18700, batch loss = 0.009692\n",
      "For epoch = 0, batch id = 18800, batch loss = 0.299062\n",
      "For epoch = 0, batch id = 18900, batch loss = 0.007982\n",
      "For epoch = 0, batch id = 19000, batch loss = 0.008067\n",
      "For epoch = 0, batch id = 19100, batch loss = 0.013833\n",
      "For epoch = 0, batch id = 19200, batch loss = 0.158871\n",
      "For epoch = 0, batch id = 19300, batch loss = 0.262103\n",
      "For epoch = 0, batch id = 19400, batch loss = 0.097838\n",
      "For epoch = 0, batch id = 19500, batch loss = 0.007748\n",
      "For epoch = 0, batch id = 19600, batch loss = 0.009090\n",
      "For epoch = 0, batch id = 19700, batch loss = 0.012228\n",
      "For epoch = 0, batch id = 19800, batch loss = 0.012064\n",
      "For epoch = 0, batch id = 19900, batch loss = 0.291633\n",
      "For epoch = 0, batch id = 20000, batch loss = 0.008671\n",
      "For epoch = 0, batch id = 20100, batch loss = 0.015536\n",
      "For epoch = 0, batch id = 20200, batch loss = 0.008639\n",
      "For epoch = 0, batch id = 20300, batch loss = 0.008412\n",
      "For epoch = 0, batch id = 20400, batch loss = 0.253528\n",
      "For epoch = 0, batch id = 20500, batch loss = 0.009801\n",
      "For epoch = 0, batch id = 20600, batch loss = 0.009119\n",
      "For epoch = 0, batch id = 20700, batch loss = 0.009820\n",
      "For epoch = 0, batch id = 20800, batch loss = 0.007523\n",
      "For epoch = 0, batch id = 20900, batch loss = 0.601855\n",
      "For epoch = 0, batch id = 21000, batch loss = 0.058650\n",
      "For epoch = 0, batch id = 21100, batch loss = 0.013140\n",
      "For epoch = 0, batch id = 21200, batch loss = 0.006882\n",
      "For epoch = 0, batch id = 21300, batch loss = 0.007779\n",
      "For epoch = 0, batch id = 21400, batch loss = 0.033650\n",
      "For epoch = 0, batch id = 21500, batch loss = 0.029802\n",
      "For epoch = 0, batch id = 21600, batch loss = 0.009193\n",
      "For epoch = 0, batch id = 21700, batch loss = 0.006587\n",
      "For epoch = 0, batch id = 21800, batch loss = 0.010558\n",
      "For epoch = 0, batch id = 21900, batch loss = 0.007498\n",
      "For epoch = 0, batch id = 22000, batch loss = 0.041082\n",
      "For epoch = 0, batch id = 22100, batch loss = 0.005953\n",
      "For epoch = 0, batch id = 22200, batch loss = 0.323613\n",
      "For epoch = 0, batch id = 22300, batch loss = 0.006224\n",
      "For epoch = 0, batch id = 22400, batch loss = 0.005806\n",
      "For epoch = 0, batch id = 22500, batch loss = 0.005031\n",
      "For epoch = 0, batch id = 22600, batch loss = 0.008145\n",
      "For epoch = 0, batch id = 22700, batch loss = 0.007263\n",
      "For epoch = 0, batch id = 22800, batch loss = 0.010437\n",
      "For epoch = 0, batch id = 22900, batch loss = 0.006693\n",
      "For epoch = 0, batch id = 23000, batch loss = 0.007433\n",
      "For epoch = 0, batch id = 23100, batch loss = 0.008509\n",
      "For epoch = 0, batch id = 23200, batch loss = 0.009133\n",
      "For epoch = 0, batch id = 23300, batch loss = 0.010442\n",
      "For epoch = 0, batch id = 23400, batch loss = 0.008367\n",
      "For epoch = 0, batch id = 23500, batch loss = 0.004401\n",
      "For epoch = 0, batch id = 23600, batch loss = 0.008890\n",
      "For epoch = 0, batch id = 23700, batch loss = 0.008792\n",
      "For epoch = 0, batch id = 23800, batch loss = 0.005542\n",
      "For epoch = 0, batch id = 23900, batch loss = 0.007148\n",
      "For epoch = 0, batch id = 24000, batch loss = 0.006310\n",
      "For epoch = 0, batch id = 24100, batch loss = 0.198171\n",
      "For epoch = 0, batch id = 24200, batch loss = 0.010220\n",
      "For epoch = 0, batch id = 24300, batch loss = 0.031566\n",
      "For epoch = 0, batch id = 24400, batch loss = 0.006142\n",
      "For epoch = 0, batch id = 24500, batch loss = 0.157634\n",
      "For epoch = 0, batch id = 24600, batch loss = 0.008315\n",
      "For epoch = 0, batch id = 24700, batch loss = 0.008327\n",
      "For epoch = 0, batch id = 24800, batch loss = 0.005968\n",
      "For epoch = 0, batch id = 24900, batch loss = 0.011302\n",
      "For epoch = 0, batch id = 25000, batch loss = 0.004903\n",
      "For epoch = 0, batch id = 25100, batch loss = 0.060969\n",
      "For epoch = 0, batch id = 25200, batch loss = 0.007546\n",
      "For epoch = 0, batch id = 25300, batch loss = 0.006580\n",
      "For epoch = 0, batch id = 25400, batch loss = 0.009403\n",
      "For epoch = 0, batch id = 25500, batch loss = 0.006201\n",
      "For epoch = 0, batch id = 25600, batch loss = 0.006757\n",
      "For epoch = 0, batch id = 25700, batch loss = 0.005364\n",
      "For epoch = 0, batch id = 25800, batch loss = 0.005493\n",
      "For epoch = 0, batch id = 25900, batch loss = 0.006246\n",
      "For epoch = 0, batch id = 26000, batch loss = 0.004772\n",
      "For epoch = 0, batch id = 26100, batch loss = 0.006782\n",
      "For epoch = 0, batch id = 26200, batch loss = 0.011142\n",
      "For epoch = 0, batch id = 26300, batch loss = 0.007009\n",
      "For epoch = 0, batch id = 26400, batch loss = 0.005220\n",
      "For epoch = 0, batch id = 26500, batch loss = 0.005727\n",
      "For epoch = 0, batch id = 26600, batch loss = 0.003626\n",
      "For epoch = 0, batch id = 26700, batch loss = 0.005809\n",
      "For epoch = 0, batch id = 26800, batch loss = 0.005227\n",
      "For epoch = 0, batch id = 26900, batch loss = 0.005314\n",
      "For epoch = 0, batch id = 27000, batch loss = 0.006134\n",
      "For epoch = 0, batch id = 27100, batch loss = 0.197107\n",
      "For epoch = 0, batch id = 27200, batch loss = 0.006262\n",
      "For epoch = 0, batch id = 27300, batch loss = 0.004216\n",
      "For epoch = 0, batch id = 27400, batch loss = 0.004356\n",
      "For epoch = 0, batch id = 27500, batch loss = 0.005192\n",
      "For epoch = 0, batch id = 27600, batch loss = 0.006073\n",
      "For epoch = 0, batch id = 27700, batch loss = 0.004999\n",
      "For epoch = 0, batch id = 27800, batch loss = 0.004965\n",
      "For epoch = 0, batch id = 27900, batch loss = 0.002692\n",
      "For epoch = 0, batch id = 28000, batch loss = 0.009972\n",
      "For epoch = 0, batch id = 28100, batch loss = 0.288282\n",
      "For epoch = 0, batch id = 28200, batch loss = 0.006976\n",
      "For epoch = 0, batch id = 28300, batch loss = 0.005895\n",
      "For epoch = 0, batch id = 28400, batch loss = 0.004751\n",
      "For epoch = 0, batch id = 28500, batch loss = 0.007607\n",
      "For epoch = 0, batch id = 28600, batch loss = 0.006499\n",
      "For epoch = 0, batch id = 28700, batch loss = 0.005358\n",
      "For epoch = 0, batch id = 28800, batch loss = 0.003933\n",
      "For epoch = 0, batch id = 28900, batch loss = 0.005788\n",
      "For epoch = 0, batch id = 29000, batch loss = 0.004965\n",
      "For epoch = 0, batch id = 29100, batch loss = 0.004051\n",
      "For epoch = 0, batch id = 29200, batch loss = 0.004947\n",
      "For epoch = 0, batch id = 29300, batch loss = 0.006624\n",
      "For epoch = 0, batch id = 29400, batch loss = 0.007333\n",
      "For epoch = 0, batch id = 29500, batch loss = 0.002989\n",
      "For epoch = 0, batch id = 29600, batch loss = 0.005822\n",
      "For epoch = 0, batch id = 29700, batch loss = 0.003954\n",
      "For epoch = 0, batch id = 29800, batch loss = 0.011621\n",
      "For epoch = 0, batch id = 29900, batch loss = 0.004305\n"
     ]
    },
    {
     "name": "stdout",
     "output_type": "stream",
     "text": [
      "For epoch = 0, batch id = 30000, batch loss = 0.006652\n",
      "For epoch = 0, batch id = 30100, batch loss = 0.006704\n",
      "For epoch = 0, batch id = 30200, batch loss = 0.004691\n",
      "For epoch = 0, batch id = 30300, batch loss = 0.006831\n",
      "For epoch = 0, batch id = 30400, batch loss = 0.004313\n",
      "For epoch = 0, batch id = 30500, batch loss = 0.005638\n",
      "For epoch = 0, batch id = 30600, batch loss = 0.003858\n",
      "For epoch = 0, batch id = 30700, batch loss = 0.005727\n",
      "For epoch = 0, batch id = 30800, batch loss = 0.004060\n",
      "For epoch = 0, batch id = 30900, batch loss = 0.004789\n",
      "For epoch = 0, batch id = 31000, batch loss = 0.003772\n",
      "For epoch = 0, batch id = 31100, batch loss = 0.004790\n",
      "For epoch = 0, batch id = 31200, batch loss = 0.008587\n",
      "For epoch = 0, batch id = 31300, batch loss = 0.005611\n",
      "For epoch = 0, batch id = 31400, batch loss = 0.005994\n",
      "For epoch = 0, batch id = 31500, batch loss = 0.005370\n",
      "For epoch = 0, batch id = 31600, batch loss = 0.005723\n",
      "For epoch = 0, batch id = 31700, batch loss = 0.003673\n",
      "For epoch = 0, batch id = 31800, batch loss = 0.004890\n",
      "For epoch = 0, batch id = 31900, batch loss = 0.006411\n",
      "For epoch = 0, batch id = 32000, batch loss = 0.003206\n",
      "For epoch = 0, batch id = 32100, batch loss = 0.004934\n",
      "For epoch = 0, batch id = 32200, batch loss = 0.004344\n",
      "For epoch = 0, batch id = 32300, batch loss = 0.002808\n",
      "For epoch = 0, batch id = 32400, batch loss = 0.003846\n",
      "For epoch = 0, batch id = 32500, batch loss = 0.004393\n",
      "For epoch = 0, batch id = 32600, batch loss = 0.010117\n",
      "For epoch = 0, batch id = 32700, batch loss = 0.004601\n",
      "For epoch = 0, batch id = 32800, batch loss = 0.004842\n",
      "For epoch = 0, batch id = 32900, batch loss = 0.004877\n",
      "For epoch = 0, batch id = 33000, batch loss = 0.004895\n",
      "For epoch = 0, batch id = 33100, batch loss = 0.007727\n",
      "For epoch = 0, batch id = 33200, batch loss = 0.003092\n",
      "For epoch = 0, batch id = 33300, batch loss = 0.007881\n",
      "For epoch = 0, batch id = 33400, batch loss = 0.004893\n",
      "For epoch = 0, batch id = 33500, batch loss = 0.005557\n",
      "For epoch = 0, batch id = 33600, batch loss = 0.004587\n",
      "For epoch = 0, batch id = 33700, batch loss = 0.004671\n",
      "For epoch = 0, batch id = 33800, batch loss = 0.005716\n",
      "For epoch = 0, batch id = 33900, batch loss = 0.005813\n"
     ]
    }
   ],
   "source": [
    "num_of_epochs = 20\n",
    "\n",
    "#batch = BatchData(batch_size=32, list_of_token_ids=data)\n",
    "\n",
    "with tf.Session() as sess:\n",
    "\n",
    "    tf.global_variables_initializer().run()\n",
    "\n",
    "    for epoch_id in range(num_of_epochs):\n",
    "\n",
    "        av_batch_loss = 0\n",
    "\n",
    "        for batch_id in range(num_batches):\n",
    "\n",
    "            X_, Y_ = getNextBatch(bi_grams_=training_data, batch_size=batch_size)\n",
    "\n",
    "            feed_dict = {}\n",
    "            feed_dict[X] = X_\n",
    "            feed_dict[Y] = Y_\n",
    "\n",
    "            batch_loss, _ = sess.run([mean_loss, optimizer], feed_dict=feed_dict)\n",
    "\n",
    "            av_batch_loss += batch_loss\n",
    "            \n",
    "            if batch_id % 100 == 0:\n",
    "                print \"For epoch = %d, batch id = %d, batch loss = %f\" %(epoch_id, batch_id, batch_loss)\n",
    "\n",
    "        print \"For epoch = %d, Av loss = %f\" %(epoch_id, av_batch_loss/num_batches)\n",
    "        \n",
    "        batch.reset()\n",
    "        \n",
    "        \n",
    "        \n",
    "        \n",
    "        \n",
    "        "
   ]
  },
  {
   "cell_type": "code",
   "execution_count": null,
   "metadata": {
    "collapsed": true
   },
   "outputs": [],
   "source": []
  },
  {
   "cell_type": "code",
   "execution_count": null,
   "metadata": {
    "collapsed": true
   },
   "outputs": [],
   "source": []
  }
 ],
 "metadata": {
  "kernelspec": {
   "display_name": "Python 2",
   "language": "python",
   "name": "python2"
  },
  "language_info": {
   "codemirror_mode": {
    "name": "ipython",
    "version": 2
   },
   "file_extension": ".py",
   "mimetype": "text/x-python",
   "name": "python",
   "nbconvert_exporter": "python",
   "pygments_lexer": "ipython2",
   "version": "2.7.10"
  }
 },
 "nbformat": 4,
 "nbformat_minor": 2
}
