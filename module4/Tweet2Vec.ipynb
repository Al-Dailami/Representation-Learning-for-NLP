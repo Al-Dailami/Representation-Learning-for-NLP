{
 "cells": [
  {
   "cell_type": "markdown",
   "metadata": {
    "collapsed": true
   },
   "source": [
    "# Implement Tweet2Vec from Dhingra et al."
   ]
  },
  {
   "cell_type": "code",
   "execution_count": 1,
   "metadata": {
    "collapsed": true
   },
   "outputs": [],
   "source": [
    "%matplotlib inline"
   ]
  },
  {
   "cell_type": "code",
   "execution_count": 2,
   "metadata": {
    "collapsed": true
   },
   "outputs": [],
   "source": [
    "import numpy as np\n",
    "np.random.seed(13)"
   ]
  },
  {
   "cell_type": "code",
   "execution_count": 3,
   "metadata": {},
   "outputs": [
    {
     "name": "stderr",
     "output_type": "stream",
     "text": [
      "Using TensorFlow backend.\n"
     ]
    }
   ],
   "source": [
    "from keras.models import Model\n",
    "from keras.layers import Dense, Embedding, GRU, Input, Bidirectional\n",
    "from keras.preprocessing.text import Tokenizer\n",
    "from keras.preprocessing import sequence\n",
    "from keras.regularizers import l2\n",
    "from keras.utils import np_utils\n",
    "from keras.utils.vis_utils import model_to_dot"
   ]
  },
  {
   "cell_type": "code",
   "execution_count": 4,
   "metadata": {
    "collapsed": true
   },
   "outputs": [],
   "source": [
    "from IPython.display import SVG\n",
    "from matplotlib import pyplot as plt\n",
    "plt.style.use(\"ggplot\")"
   ]
  },
  {
   "cell_type": "code",
   "execution_count": 5,
   "metadata": {},
   "outputs": [],
   "source": [
    "#tweets.tsv is in the format of <tweet text><tab><hashtag_id> where hashtag_id is a unique id given to each hashtag\n",
    "\n",
    "tweets = []\n",
    "labels = []\n",
    "with open(\"./../data/tweets.tsv\") as f:\n",
    "    for l in f:\n",
    "        tweet, label = l.strip().split(\"\\t\")\n",
    "        tweets.append(\" \".join(list(tweet)))\n",
    "        labels.append(int(label))\n"
   ]
  },
  {
   "cell_type": "code",
   "execution_count": 6,
   "metadata": {},
   "outputs": [],
   "source": [
    "maxlen = 140\n",
    "\n",
    "tokenizer = Tokenizer(filters=\"\")\n",
    "tokenizer.fit_on_texts(tweets)\n",
    "X_train = tokenizer.texts_to_sequences(tweets)\n",
    "X_train = sequence.pad_sequences(X_train, maxlen=maxlen)\n",
    "#Y_train = np_utils.to_categorical(labels, len(set(labels)))\n",
    "Y_train = np_utils.to_categorical(labels, len(set(labels)))\n",
    "V = len(tokenizer.word_index) + 1"
   ]
  },
  {
   "cell_type": "code",
   "execution_count": 7,
   "metadata": {},
   "outputs": [
    {
     "data": {
      "text/plain": [
       "(3, 3)"
      ]
     },
     "execution_count": 7,
     "metadata": {},
     "output_type": "execute_result"
    }
   ],
   "source": [
    "Y_train.shape"
   ]
  },
  {
   "cell_type": "code",
   "execution_count": 8,
   "metadata": {},
   "outputs": [
    {
     "name": "stderr",
     "output_type": "stream",
     "text": [
      "/Users/admin/.virtualenvs/Representation-Learning-for-NLP/lib/python2.7/site-packages/keras/legacy/interfaces.py:86: UserWarning: Update your `Embedding` call to the Keras 2 API: `Embedding(30, 128, embeddings_regularizer=<keras.reg..., input_length=140)`\n",
      "  '` call to the Keras 2 API: ' + signature)\n",
      "/Users/admin/.virtualenvs/Representation-Learning-for-NLP/lib/python2.7/site-packages/keras/legacy/interfaces.py:86: UserWarning: Update your `GRU` call to the Keras 2 API: `GRU(128, recurrent_regularizer=<keras.reg..., bias_regularizer=<keras.reg..., kernel_regularizer=<keras.reg..., return_sequences=False)`\n",
      "  '` call to the Keras 2 API: ' + signature)\n",
      "/Users/admin/.virtualenvs/Representation-Learning-for-NLP/lib/python2.7/site-packages/keras/legacy/interfaces.py:86: UserWarning: Update your `Dense` call to the Keras 2 API: `Dense(3, activation=\"softmax\", kernel_regularizer=<keras.reg...)`\n",
      "  '` call to the Keras 2 API: ' + signature)\n",
      "/Users/admin/.virtualenvs/Representation-Learning-for-NLP/lib/python2.7/site-packages/keras/legacy/interfaces.py:86: UserWarning: Update your `Model` call to the Keras 2 API: `Model(outputs=Tensor(\"de..., inputs=Tensor(\"in...)`\n",
      "  '` call to the Keras 2 API: ' + signature)\n"
     ]
    },
    {
     "data": {
      "image/svg+xml": [
       "<svg height=\"296pt\" viewBox=\"0.00 0.00 437.42 296.00\" width=\"437pt\" xmlns=\"http://www.w3.org/2000/svg\" xmlns:xlink=\"http://www.w3.org/1999/xlink\">\n",
       "<g class=\"graph\" id=\"graph0\" transform=\"scale(1 1) rotate(0) translate(4 292)\">\n",
       "<title>G</title>\n",
       "<polygon fill=\"white\" points=\"-4,4 -4,-292 433.418,-292 433.418,4 -4,4\" stroke=\"none\"/>\n",
       "<!-- 4561729168 -->\n",
       "<g class=\"node\" id=\"node1\"><title>4561729168</title>\n",
       "<polygon fill=\"none\" points=\"80.8691,-243.5 80.8691,-287.5 348.549,-287.5 348.549,-243.5 80.8691,-243.5\" stroke=\"black\"/>\n",
       "<text font-family=\"Times,serif\" font-size=\"14.00\" text-anchor=\"middle\" x=\"145.05\" y=\"-261.3\">input_1: InputLayer</text>\n",
       "<polyline fill=\"none\" points=\"209.231,-243.5 209.231,-287.5 \" stroke=\"black\"/>\n",
       "<text font-family=\"Times,serif\" font-size=\"14.00\" text-anchor=\"middle\" x=\"237.066\" y=\"-272.3\">input:</text>\n",
       "<polyline fill=\"none\" points=\"209.231,-265.5 264.9,-265.5 \" stroke=\"black\"/>\n",
       "<text font-family=\"Times,serif\" font-size=\"14.00\" text-anchor=\"middle\" x=\"237.066\" y=\"-250.3\">output:</text>\n",
       "<polyline fill=\"none\" points=\"264.9,-243.5 264.9,-287.5 \" stroke=\"black\"/>\n",
       "<text font-family=\"Times,serif\" font-size=\"14.00\" text-anchor=\"middle\" x=\"306.725\" y=\"-272.3\">(None, 140)</text>\n",
       "<polyline fill=\"none\" points=\"264.9,-265.5 348.549,-265.5 \" stroke=\"black\"/>\n",
       "<text font-family=\"Times,serif\" font-size=\"14.00\" text-anchor=\"middle\" x=\"306.725\" y=\"-250.3\">(None, 140)</text>\n",
       "</g>\n",
       "<!-- 4426397968 -->\n",
       "<g class=\"node\" id=\"node2\"><title>4426397968</title>\n",
       "<polygon fill=\"none\" points=\"48.9795,-162.5 48.9795,-206.5 380.438,-206.5 380.438,-162.5 48.9795,-162.5\" stroke=\"black\"/>\n",
       "<text font-family=\"Times,serif\" font-size=\"14.00\" text-anchor=\"middle\" x=\"131.05\" y=\"-180.3\">embedding_1: Embedding</text>\n",
       "<polyline fill=\"none\" points=\"213.121,-162.5 213.121,-206.5 \" stroke=\"black\"/>\n",
       "<text font-family=\"Times,serif\" font-size=\"14.00\" text-anchor=\"middle\" x=\"240.956\" y=\"-191.3\">input:</text>\n",
       "<polyline fill=\"none\" points=\"213.121,-184.5 268.79,-184.5 \" stroke=\"black\"/>\n",
       "<text font-family=\"Times,serif\" font-size=\"14.00\" text-anchor=\"middle\" x=\"240.956\" y=\"-169.3\">output:</text>\n",
       "<polyline fill=\"none\" points=\"268.79,-162.5 268.79,-206.5 \" stroke=\"black\"/>\n",
       "<text font-family=\"Times,serif\" font-size=\"14.00\" text-anchor=\"middle\" x=\"324.614\" y=\"-191.3\">(None, 140)</text>\n",
       "<polyline fill=\"none\" points=\"268.79,-184.5 380.438,-184.5 \" stroke=\"black\"/>\n",
       "<text font-family=\"Times,serif\" font-size=\"14.00\" text-anchor=\"middle\" x=\"324.614\" y=\"-169.3\">(None, 140, 128)</text>\n",
       "</g>\n",
       "<!-- 4561729168&#45;&gt;4426397968 -->\n",
       "<g class=\"edge\" id=\"edge1\"><title>4561729168-&gt;4426397968</title>\n",
       "<path d=\"M214.709,-243.329C214.709,-235.183 214.709,-225.699 214.709,-216.797\" fill=\"none\" stroke=\"black\"/>\n",
       "<polygon fill=\"black\" points=\"218.209,-216.729 214.709,-206.729 211.209,-216.729 218.209,-216.729\" stroke=\"black\"/>\n",
       "</g>\n",
       "<!-- 4562001744 -->\n",
       "<g class=\"node\" id=\"node3\"><title>4562001744</title>\n",
       "<polygon fill=\"none\" points=\"0,-81.5 0,-125.5 429.418,-125.5 429.418,-81.5 0,-81.5\" stroke=\"black\"/>\n",
       "<text font-family=\"Times,serif\" font-size=\"14.00\" text-anchor=\"middle\" x=\"131.05\" y=\"-99.3\">bidirectional_1(gru_1): Bidirectional(GRU)</text>\n",
       "<polyline fill=\"none\" points=\"262.101,-81.5 262.101,-125.5 \" stroke=\"black\"/>\n",
       "<text font-family=\"Times,serif\" font-size=\"14.00\" text-anchor=\"middle\" x=\"289.935\" y=\"-110.3\">input:</text>\n",
       "<polyline fill=\"none\" points=\"262.101,-103.5 317.77,-103.5 \" stroke=\"black\"/>\n",
       "<text font-family=\"Times,serif\" font-size=\"14.00\" text-anchor=\"middle\" x=\"289.935\" y=\"-88.3\">output:</text>\n",
       "<polyline fill=\"none\" points=\"317.77,-81.5 317.77,-125.5 \" stroke=\"black\"/>\n",
       "<text font-family=\"Times,serif\" font-size=\"14.00\" text-anchor=\"middle\" x=\"373.594\" y=\"-110.3\">(None, 140, 128)</text>\n",
       "<polyline fill=\"none\" points=\"317.77,-103.5 429.418,-103.5 \" stroke=\"black\"/>\n",
       "<text font-family=\"Times,serif\" font-size=\"14.00\" text-anchor=\"middle\" x=\"373.594\" y=\"-88.3\">(None, 128)</text>\n",
       "</g>\n",
       "<!-- 4426397968&#45;&gt;4562001744 -->\n",
       "<g class=\"edge\" id=\"edge2\"><title>4426397968-&gt;4562001744</title>\n",
       "<path d=\"M214.709,-162.329C214.709,-154.183 214.709,-144.699 214.709,-135.797\" fill=\"none\" stroke=\"black\"/>\n",
       "<polygon fill=\"black\" points=\"218.209,-135.729 214.709,-125.729 211.209,-135.729 218.209,-135.729\" stroke=\"black\"/>\n",
       "</g>\n",
       "<!-- 4562063120 -->\n",
       "<g class=\"node\" id=\"node4\"><title>4562063120</title>\n",
       "<polygon fill=\"none\" points=\"92.9243,-0.5 92.9243,-44.5 336.494,-44.5 336.494,-0.5 92.9243,-0.5\" stroke=\"black\"/>\n",
       "<text font-family=\"Times,serif\" font-size=\"14.00\" text-anchor=\"middle\" x=\"145.05\" y=\"-18.3\">dense_1: Dense</text>\n",
       "<polyline fill=\"none\" points=\"197.176,-0.5 197.176,-44.5 \" stroke=\"black\"/>\n",
       "<text font-family=\"Times,serif\" font-size=\"14.00\" text-anchor=\"middle\" x=\"225.011\" y=\"-29.3\">input:</text>\n",
       "<polyline fill=\"none\" points=\"197.176,-22.5 252.845,-22.5 \" stroke=\"black\"/>\n",
       "<text font-family=\"Times,serif\" font-size=\"14.00\" text-anchor=\"middle\" x=\"225.011\" y=\"-7.3\">output:</text>\n",
       "<polyline fill=\"none\" points=\"252.845,-0.5 252.845,-44.5 \" stroke=\"black\"/>\n",
       "<text font-family=\"Times,serif\" font-size=\"14.00\" text-anchor=\"middle\" x=\"294.669\" y=\"-29.3\">(None, 128)</text>\n",
       "<polyline fill=\"none\" points=\"252.845,-22.5 336.494,-22.5 \" stroke=\"black\"/>\n",
       "<text font-family=\"Times,serif\" font-size=\"14.00\" text-anchor=\"middle\" x=\"294.669\" y=\"-7.3\">(None, 3)</text>\n",
       "</g>\n",
       "<!-- 4562001744&#45;&gt;4562063120 -->\n",
       "<g class=\"edge\" id=\"edge3\"><title>4562001744-&gt;4562063120</title>\n",
       "<path d=\"M214.709,-81.3294C214.709,-73.1826 214.709,-63.6991 214.709,-54.7971\" fill=\"none\" stroke=\"black\"/>\n",
       "<polygon fill=\"black\" points=\"218.209,-54.729 214.709,-44.729 211.209,-54.729 218.209,-54.729\" stroke=\"black\"/>\n",
       "</g>\n",
       "</g>\n",
       "</svg>"
      ],
      "text/plain": [
       "<IPython.core.display.SVG object>"
      ]
     },
     "execution_count": 8,
     "metadata": {},
     "output_type": "execute_result"
    }
   ],
   "source": [
    "l2_coef = 0.001\n",
    "tweet = Input(shape=(maxlen,), dtype='int32')\n",
    "x = Embedding(V, 128, input_length=maxlen, W_regularizer=l2(l=l2_coef))(tweet)\n",
    "x = Bidirectional(layer=GRU(128, return_sequences=False, \n",
    "                            W_regularizer=l2(l=l2_coef),\n",
    "                            b_regularizer=l2(l=l2_coef),\n",
    "                            U_regularizer=l2(l=l2_coef)),\n",
    "                  merge_mode='sum')(x)\n",
    "x = Dense(len(set(labels)), W_regularizer=l2(l=l2_coef), activation=\"softmax\")(x)\n",
    "\n",
    "tweet2vec = Model(input=tweet, output=x)\n",
    "\n",
    "tweet2vec.compile(loss='categorical_crossentropy',\n",
    "                  optimizer='RMSprop',\n",
    "                  metrics=['accuracy'])\n",
    "\n",
    "SVG(model_to_dot(tweet2vec, show_shapes=True).create(prog='dot', format='svg'))"
   ]
  },
  {
   "cell_type": "code",
   "execution_count": 10,
   "metadata": {},
   "outputs": [
    {
     "name": "stdout",
     "output_type": "stream",
     "text": [
      "Train on 2 samples, validate on 1 samples\n",
      "Epoch 1/10\n",
      "2/2 [==============================] - 0s - loss: 0.6942 - acc: 1.0000 - val_loss: 4.3632 - val_acc: 0.0000e+00\n",
      "Epoch 2/10\n",
      "2/2 [==============================] - 0s - loss: 0.5737 - acc: 1.0000 - val_loss: 4.3250 - val_acc: 0.0000e+00\n",
      "Epoch 3/10\n",
      "2/2 [==============================] - 0s - loss: 0.5458 - acc: 1.0000 - val_loss: 4.3640 - val_acc: 0.0000e+00\n",
      "Epoch 4/10\n",
      "2/2 [==============================] - 0s - loss: 0.5263 - acc: 1.0000 - val_loss: 4.4369 - val_acc: 0.0000e+00\n",
      "Epoch 5/10\n",
      "2/2 [==============================] - 0s - loss: 0.5108 - acc: 1.0000 - val_loss: 4.5276 - val_acc: 0.0000e+00\n",
      "Epoch 6/10\n",
      "2/2 [==============================] - 0s - loss: 0.4977 - acc: 1.0000 - val_loss: 4.6281 - val_acc: 0.0000e+00\n",
      "Epoch 7/10\n",
      "2/2 [==============================] - 0s - loss: 0.4862 - acc: 1.0000 - val_loss: 4.7335 - val_acc: 0.0000e+00\n",
      "Epoch 8/10\n",
      "2/2 [==============================] - 0s - loss: 0.4757 - acc: 1.0000 - val_loss: 4.8414 - val_acc: 0.0000e+00\n",
      "Epoch 9/10\n",
      "2/2 [==============================] - 0s - loss: 0.4660 - acc: 1.0000 - val_loss: 4.9489 - val_acc: 0.0000e+00\n",
      "Epoch 10/10\n",
      "2/2 [==============================] - 0s - loss: 0.4570 - acc: 1.0000 - val_loss: 5.0552 - val_acc: 0.0000e+00\n"
     ]
    },
    {
     "data": {
      "text/plain": [
       "<keras.callbacks.History at 0x113c6e1d0>"
      ]
     },
     "execution_count": 10,
     "metadata": {},
     "output_type": "execute_result"
    }
   ],
   "source": [
    "tweet2vec.fit(X_train, Y_train, epochs=10, batch_size=32, validation_split=0.1)"
   ]
  },
  {
   "cell_type": "code",
   "execution_count": null,
   "metadata": {
    "collapsed": true
   },
   "outputs": [],
   "source": []
  }
 ],
 "metadata": {
  "kernelspec": {
   "display_name": "Python 2",
   "language": "python",
   "name": "python2"
  },
  "language_info": {
   "codemirror_mode": {
    "name": "ipython",
    "version": 2
   },
   "file_extension": ".py",
   "mimetype": "text/x-python",
   "name": "python",
   "nbconvert_exporter": "python",
   "pygments_lexer": "ipython2",
   "version": "2.7.11"
  }
 },
 "nbformat": 4,
 "nbformat_minor": 2
}
